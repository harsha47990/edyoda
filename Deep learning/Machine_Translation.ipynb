{
  "nbformat": 4,
  "nbformat_minor": 0,
  "metadata": {
    "colab": {
      "name": "Machine_Translation.ipynb",
      "provenance": []
    },
    "kernelspec": {
      "name": "python3",
      "display_name": "Python 3"
    },
    "language_info": {
      "name": "python"
    },
    "accelerator": "GPU",
    "gpuClass": "standard"
  },
  "cells": [
    {
      "cell_type": "code",
      "execution_count": 2,
      "metadata": {
        "colab": {
          "base_uri": "https://localhost:8080/"
        },
        "id": "4ULEAfxF-R_-",
        "outputId": "d00f08fe-48a9-4e6f-e4dd-5f2aeb73fca1"
      },
      "outputs": [
        {
          "output_type": "stream",
          "name": "stdout",
          "text": [
            "Looking in indexes: https://pypi.org/simple, https://us-python.pkg.dev/colab-wheels/public/simple/\n",
            "Collecting helper\n",
            "  Downloading helper-2.5.0.tar.gz (18 kB)\n",
            "Requirement already satisfied: pyyaml in /usr/local/lib/python3.7/dist-packages (from helper) (3.13)\n",
            "Building wheels for collected packages: helper\n",
            "  Building wheel for helper (setup.py) ... \u001b[?25l\u001b[?25hdone\n",
            "  Created wheel for helper: filename=helper-2.5.0-py2.py3-none-any.whl size=19188 sha256=331ca1605983fcf5a356e6efd799bdd65766edcd1d1ab53f453039c390e82f41\n",
            "  Stored in directory: /root/.cache/pip/wheels/85/68/52/33a3eed6a95667d7b9a38afeee13928e3f95912753f1120633\n",
            "Successfully built helper\n",
            "Installing collected packages: helper\n",
            "Successfully installed helper-2.5.0\n"
          ]
        }
      ],
      "source": [
        "!pip install helper"
      ]
    },
    {
      "cell_type": "code",
      "source": [
        "import collections\n",
        "\n",
        "import helper\n",
        "import numpy as np\n",
        "\n",
        "from tensorflow.keras.preprocessing.text import Tokenizer\n",
        "from tensorflow.keras.preprocessing.sequence import pad_sequences\n",
        "from tensorflow.keras.models import Model, Sequential\n",
        "from tensorflow.keras.layers import GRU, Input, Dense, TimeDistributed, Activation, RepeatVector, Bidirectional, Dropout, LSTM\n",
        "from tensorflow.keras.layers import Embedding"
      ],
      "metadata": {
        "id": "9io6WXWu_R-d"
      },
      "execution_count": 3,
      "outputs": []
    },
    {
      "cell_type": "code",
      "source": [
        "import pandas as pd"
      ],
      "metadata": {
        "id": "neo4di3lDpea"
      },
      "execution_count": 4,
      "outputs": []
    },
    {
      "cell_type": "code",
      "source": [
        "english = pd.read_csv('https://raw.githubusercontent.com/Kulbear/deep-learning-nano-foundation/master/DLND-language-translation/data/small_vocab_en',sep=';',names=['data'])"
      ],
      "metadata": {
        "id": "1_G_BYLz_UpN"
      },
      "execution_count": 5,
      "outputs": []
    },
    {
      "cell_type": "code",
      "source": [
        "english"
      ],
      "metadata": {
        "colab": {
          "base_uri": "https://localhost:8080/",
          "height": 424
        },
        "id": "5KC-KZ-e_UrQ",
        "outputId": "d009392f-842e-4989-d67b-a27f86b27b09"
      },
      "execution_count": 5,
      "outputs": [
        {
          "output_type": "execute_result",
          "data": {
            "text/plain": [
              "                                                     data\n",
              "0       new jersey is sometimes quiet during autumn , ...\n",
              "1       the united states is usually chilly during jul...\n",
              "2       california is usually quiet during march , and...\n",
              "3       the united states is sometimes mild during jun...\n",
              "4       your least liked fruit is the grape , but my l...\n",
              "...                                                   ...\n",
              "137855  france is never busy during march , and it is ...\n",
              "137856  india is sometimes beautiful during spring , a...\n",
              "137857  india is never wet during summer , but it is s...\n",
              "137858  france is never chilly during january , but it...\n",
              "137859  the orange is her favorite fruit , but the ban...\n",
              "\n",
              "[137860 rows x 1 columns]"
            ],
            "text/html": [
              "\n",
              "  <div id=\"df-a1ff07c9-09a0-48dd-a7c5-baae93717335\">\n",
              "    <div class=\"colab-df-container\">\n",
              "      <div>\n",
              "<style scoped>\n",
              "    .dataframe tbody tr th:only-of-type {\n",
              "        vertical-align: middle;\n",
              "    }\n",
              "\n",
              "    .dataframe tbody tr th {\n",
              "        vertical-align: top;\n",
              "    }\n",
              "\n",
              "    .dataframe thead th {\n",
              "        text-align: right;\n",
              "    }\n",
              "</style>\n",
              "<table border=\"1\" class=\"dataframe\">\n",
              "  <thead>\n",
              "    <tr style=\"text-align: right;\">\n",
              "      <th></th>\n",
              "      <th>data</th>\n",
              "    </tr>\n",
              "  </thead>\n",
              "  <tbody>\n",
              "    <tr>\n",
              "      <th>0</th>\n",
              "      <td>new jersey is sometimes quiet during autumn , ...</td>\n",
              "    </tr>\n",
              "    <tr>\n",
              "      <th>1</th>\n",
              "      <td>the united states is usually chilly during jul...</td>\n",
              "    </tr>\n",
              "    <tr>\n",
              "      <th>2</th>\n",
              "      <td>california is usually quiet during march , and...</td>\n",
              "    </tr>\n",
              "    <tr>\n",
              "      <th>3</th>\n",
              "      <td>the united states is sometimes mild during jun...</td>\n",
              "    </tr>\n",
              "    <tr>\n",
              "      <th>4</th>\n",
              "      <td>your least liked fruit is the grape , but my l...</td>\n",
              "    </tr>\n",
              "    <tr>\n",
              "      <th>...</th>\n",
              "      <td>...</td>\n",
              "    </tr>\n",
              "    <tr>\n",
              "      <th>137855</th>\n",
              "      <td>france is never busy during march , and it is ...</td>\n",
              "    </tr>\n",
              "    <tr>\n",
              "      <th>137856</th>\n",
              "      <td>india is sometimes beautiful during spring , a...</td>\n",
              "    </tr>\n",
              "    <tr>\n",
              "      <th>137857</th>\n",
              "      <td>india is never wet during summer , but it is s...</td>\n",
              "    </tr>\n",
              "    <tr>\n",
              "      <th>137858</th>\n",
              "      <td>france is never chilly during january , but it...</td>\n",
              "    </tr>\n",
              "    <tr>\n",
              "      <th>137859</th>\n",
              "      <td>the orange is her favorite fruit , but the ban...</td>\n",
              "    </tr>\n",
              "  </tbody>\n",
              "</table>\n",
              "<p>137860 rows × 1 columns</p>\n",
              "</div>\n",
              "      <button class=\"colab-df-convert\" onclick=\"convertToInteractive('df-a1ff07c9-09a0-48dd-a7c5-baae93717335')\"\n",
              "              title=\"Convert this dataframe to an interactive table.\"\n",
              "              style=\"display:none;\">\n",
              "        \n",
              "  <svg xmlns=\"http://www.w3.org/2000/svg\" height=\"24px\"viewBox=\"0 0 24 24\"\n",
              "       width=\"24px\">\n",
              "    <path d=\"M0 0h24v24H0V0z\" fill=\"none\"/>\n",
              "    <path d=\"M18.56 5.44l.94 2.06.94-2.06 2.06-.94-2.06-.94-.94-2.06-.94 2.06-2.06.94zm-11 1L8.5 8.5l.94-2.06 2.06-.94-2.06-.94L8.5 2.5l-.94 2.06-2.06.94zm10 10l.94 2.06.94-2.06 2.06-.94-2.06-.94-.94-2.06-.94 2.06-2.06.94z\"/><path d=\"M17.41 7.96l-1.37-1.37c-.4-.4-.92-.59-1.43-.59-.52 0-1.04.2-1.43.59L10.3 9.45l-7.72 7.72c-.78.78-.78 2.05 0 2.83L4 21.41c.39.39.9.59 1.41.59.51 0 1.02-.2 1.41-.59l7.78-7.78 2.81-2.81c.8-.78.8-2.07 0-2.86zM5.41 20L4 18.59l7.72-7.72 1.47 1.35L5.41 20z\"/>\n",
              "  </svg>\n",
              "      </button>\n",
              "      \n",
              "  <style>\n",
              "    .colab-df-container {\n",
              "      display:flex;\n",
              "      flex-wrap:wrap;\n",
              "      gap: 12px;\n",
              "    }\n",
              "\n",
              "    .colab-df-convert {\n",
              "      background-color: #E8F0FE;\n",
              "      border: none;\n",
              "      border-radius: 50%;\n",
              "      cursor: pointer;\n",
              "      display: none;\n",
              "      fill: #1967D2;\n",
              "      height: 32px;\n",
              "      padding: 0 0 0 0;\n",
              "      width: 32px;\n",
              "    }\n",
              "\n",
              "    .colab-df-convert:hover {\n",
              "      background-color: #E2EBFA;\n",
              "      box-shadow: 0px 1px 2px rgba(60, 64, 67, 0.3), 0px 1px 3px 1px rgba(60, 64, 67, 0.15);\n",
              "      fill: #174EA6;\n",
              "    }\n",
              "\n",
              "    [theme=dark] .colab-df-convert {\n",
              "      background-color: #3B4455;\n",
              "      fill: #D2E3FC;\n",
              "    }\n",
              "\n",
              "    [theme=dark] .colab-df-convert:hover {\n",
              "      background-color: #434B5C;\n",
              "      box-shadow: 0px 1px 3px 1px rgba(0, 0, 0, 0.15);\n",
              "      filter: drop-shadow(0px 1px 2px rgba(0, 0, 0, 0.3));\n",
              "      fill: #FFFFFF;\n",
              "    }\n",
              "  </style>\n",
              "\n",
              "      <script>\n",
              "        const buttonEl =\n",
              "          document.querySelector('#df-a1ff07c9-09a0-48dd-a7c5-baae93717335 button.colab-df-convert');\n",
              "        buttonEl.style.display =\n",
              "          google.colab.kernel.accessAllowed ? 'block' : 'none';\n",
              "\n",
              "        async function convertToInteractive(key) {\n",
              "          const element = document.querySelector('#df-a1ff07c9-09a0-48dd-a7c5-baae93717335');\n",
              "          const dataTable =\n",
              "            await google.colab.kernel.invokeFunction('convertToInteractive',\n",
              "                                                     [key], {});\n",
              "          if (!dataTable) return;\n",
              "\n",
              "          const docLinkHtml = 'Like what you see? Visit the ' +\n",
              "            '<a target=\"_blank\" href=https://colab.research.google.com/notebooks/data_table.ipynb>data table notebook</a>'\n",
              "            + ' to learn more about interactive tables.';\n",
              "          element.innerHTML = '';\n",
              "          dataTable['output_type'] = 'display_data';\n",
              "          await google.colab.output.renderOutput(dataTable, element);\n",
              "          const docLink = document.createElement('div');\n",
              "          docLink.innerHTML = docLinkHtml;\n",
              "          element.appendChild(docLink);\n",
              "        }\n",
              "      </script>\n",
              "    </div>\n",
              "  </div>\n",
              "  "
            ]
          },
          "metadata": {},
          "execution_count": 5
        }
      ]
    },
    {
      "cell_type": "code",
      "source": [
        "french = pd.read_csv('https://raw.githubusercontent.com/Kulbear/deep-learning-nano-foundation/master/DLND-language-translation/data/small_vocab_fr',sep=';',names=['data'])"
      ],
      "metadata": {
        "id": "FUla_6pr_Uto"
      },
      "execution_count": 6,
      "outputs": []
    },
    {
      "cell_type": "code",
      "source": [
        "french"
      ],
      "metadata": {
        "colab": {
          "base_uri": "https://localhost:8080/",
          "height": 424
        },
        "id": "2TlQkCPjE29p",
        "outputId": "f3bd6f55-47ab-4402-e375-f9cb8bc3df57"
      },
      "execution_count": 7,
      "outputs": [
        {
          "output_type": "execute_result",
          "data": {
            "text/plain": [
              "                                                     data\n",
              "0       new jersey est parfois calme pendant l' automn...\n",
              "1       les états-unis est généralement froid en juill...\n",
              "2       california est généralement calme en mars , et...\n",
              "3       les états-unis est parfois légère en juin , et...\n",
              "4       votre moins aimé fruit est le raisin , mais mo...\n",
              "...                                                   ...\n",
              "137855  la france est jamais occupée en mars , et il e...\n",
              "137856  l' inde est parfois belle au printemps , et il...\n",
              "137857  l' inde est jamais mouillé pendant l' été , ma...\n",
              "137858  la france est jamais froid en janvier , mais i...\n",
              "137859  l'orange est son fruit préféré , mais la banan...\n",
              "\n",
              "[137860 rows x 1 columns]"
            ],
            "text/html": [
              "\n",
              "  <div id=\"df-1ef1fe79-4e7b-4fea-8e5d-750c604bb44a\">\n",
              "    <div class=\"colab-df-container\">\n",
              "      <div>\n",
              "<style scoped>\n",
              "    .dataframe tbody tr th:only-of-type {\n",
              "        vertical-align: middle;\n",
              "    }\n",
              "\n",
              "    .dataframe tbody tr th {\n",
              "        vertical-align: top;\n",
              "    }\n",
              "\n",
              "    .dataframe thead th {\n",
              "        text-align: right;\n",
              "    }\n",
              "</style>\n",
              "<table border=\"1\" class=\"dataframe\">\n",
              "  <thead>\n",
              "    <tr style=\"text-align: right;\">\n",
              "      <th></th>\n",
              "      <th>data</th>\n",
              "    </tr>\n",
              "  </thead>\n",
              "  <tbody>\n",
              "    <tr>\n",
              "      <th>0</th>\n",
              "      <td>new jersey est parfois calme pendant l' automn...</td>\n",
              "    </tr>\n",
              "    <tr>\n",
              "      <th>1</th>\n",
              "      <td>les états-unis est généralement froid en juill...</td>\n",
              "    </tr>\n",
              "    <tr>\n",
              "      <th>2</th>\n",
              "      <td>california est généralement calme en mars , et...</td>\n",
              "    </tr>\n",
              "    <tr>\n",
              "      <th>3</th>\n",
              "      <td>les états-unis est parfois légère en juin , et...</td>\n",
              "    </tr>\n",
              "    <tr>\n",
              "      <th>4</th>\n",
              "      <td>votre moins aimé fruit est le raisin , mais mo...</td>\n",
              "    </tr>\n",
              "    <tr>\n",
              "      <th>...</th>\n",
              "      <td>...</td>\n",
              "    </tr>\n",
              "    <tr>\n",
              "      <th>137855</th>\n",
              "      <td>la france est jamais occupée en mars , et il e...</td>\n",
              "    </tr>\n",
              "    <tr>\n",
              "      <th>137856</th>\n",
              "      <td>l' inde est parfois belle au printemps , et il...</td>\n",
              "    </tr>\n",
              "    <tr>\n",
              "      <th>137857</th>\n",
              "      <td>l' inde est jamais mouillé pendant l' été , ma...</td>\n",
              "    </tr>\n",
              "    <tr>\n",
              "      <th>137858</th>\n",
              "      <td>la france est jamais froid en janvier , mais i...</td>\n",
              "    </tr>\n",
              "    <tr>\n",
              "      <th>137859</th>\n",
              "      <td>l'orange est son fruit préféré , mais la banan...</td>\n",
              "    </tr>\n",
              "  </tbody>\n",
              "</table>\n",
              "<p>137860 rows × 1 columns</p>\n",
              "</div>\n",
              "      <button class=\"colab-df-convert\" onclick=\"convertToInteractive('df-1ef1fe79-4e7b-4fea-8e5d-750c604bb44a')\"\n",
              "              title=\"Convert this dataframe to an interactive table.\"\n",
              "              style=\"display:none;\">\n",
              "        \n",
              "  <svg xmlns=\"http://www.w3.org/2000/svg\" height=\"24px\"viewBox=\"0 0 24 24\"\n",
              "       width=\"24px\">\n",
              "    <path d=\"M0 0h24v24H0V0z\" fill=\"none\"/>\n",
              "    <path d=\"M18.56 5.44l.94 2.06.94-2.06 2.06-.94-2.06-.94-.94-2.06-.94 2.06-2.06.94zm-11 1L8.5 8.5l.94-2.06 2.06-.94-2.06-.94L8.5 2.5l-.94 2.06-2.06.94zm10 10l.94 2.06.94-2.06 2.06-.94-2.06-.94-.94-2.06-.94 2.06-2.06.94z\"/><path d=\"M17.41 7.96l-1.37-1.37c-.4-.4-.92-.59-1.43-.59-.52 0-1.04.2-1.43.59L10.3 9.45l-7.72 7.72c-.78.78-.78 2.05 0 2.83L4 21.41c.39.39.9.59 1.41.59.51 0 1.02-.2 1.41-.59l7.78-7.78 2.81-2.81c.8-.78.8-2.07 0-2.86zM5.41 20L4 18.59l7.72-7.72 1.47 1.35L5.41 20z\"/>\n",
              "  </svg>\n",
              "      </button>\n",
              "      \n",
              "  <style>\n",
              "    .colab-df-container {\n",
              "      display:flex;\n",
              "      flex-wrap:wrap;\n",
              "      gap: 12px;\n",
              "    }\n",
              "\n",
              "    .colab-df-convert {\n",
              "      background-color: #E8F0FE;\n",
              "      border: none;\n",
              "      border-radius: 50%;\n",
              "      cursor: pointer;\n",
              "      display: none;\n",
              "      fill: #1967D2;\n",
              "      height: 32px;\n",
              "      padding: 0 0 0 0;\n",
              "      width: 32px;\n",
              "    }\n",
              "\n",
              "    .colab-df-convert:hover {\n",
              "      background-color: #E2EBFA;\n",
              "      box-shadow: 0px 1px 2px rgba(60, 64, 67, 0.3), 0px 1px 3px 1px rgba(60, 64, 67, 0.15);\n",
              "      fill: #174EA6;\n",
              "    }\n",
              "\n",
              "    [theme=dark] .colab-df-convert {\n",
              "      background-color: #3B4455;\n",
              "      fill: #D2E3FC;\n",
              "    }\n",
              "\n",
              "    [theme=dark] .colab-df-convert:hover {\n",
              "      background-color: #434B5C;\n",
              "      box-shadow: 0px 1px 3px 1px rgba(0, 0, 0, 0.15);\n",
              "      filter: drop-shadow(0px 1px 2px rgba(0, 0, 0, 0.3));\n",
              "      fill: #FFFFFF;\n",
              "    }\n",
              "  </style>\n",
              "\n",
              "      <script>\n",
              "        const buttonEl =\n",
              "          document.querySelector('#df-1ef1fe79-4e7b-4fea-8e5d-750c604bb44a button.colab-df-convert');\n",
              "        buttonEl.style.display =\n",
              "          google.colab.kernel.accessAllowed ? 'block' : 'none';\n",
              "\n",
              "        async function convertToInteractive(key) {\n",
              "          const element = document.querySelector('#df-1ef1fe79-4e7b-4fea-8e5d-750c604bb44a');\n",
              "          const dataTable =\n",
              "            await google.colab.kernel.invokeFunction('convertToInteractive',\n",
              "                                                     [key], {});\n",
              "          if (!dataTable) return;\n",
              "\n",
              "          const docLinkHtml = 'Like what you see? Visit the ' +\n",
              "            '<a target=\"_blank\" href=https://colab.research.google.com/notebooks/data_table.ipynb>data table notebook</a>'\n",
              "            + ' to learn more about interactive tables.';\n",
              "          element.innerHTML = '';\n",
              "          dataTable['output_type'] = 'display_data';\n",
              "          await google.colab.output.renderOutput(dataTable, element);\n",
              "          const docLink = document.createElement('div');\n",
              "          docLink.innerHTML = docLinkHtml;\n",
              "          element.appendChild(docLink);\n",
              "        }\n",
              "      </script>\n",
              "    </div>\n",
              "  </div>\n",
              "  "
            ]
          },
          "metadata": {},
          "execution_count": 7
        }
      ]
    },
    {
      "cell_type": "code",
      "source": [
        "for i in range(5):\n",
        "    print('English sample {}:  {}'.format(i + 1, english['data'][i]))\n",
        "    print('French sample {}:  {}\\n'.format(i + 1, french['data'][i]))   "
      ],
      "metadata": {
        "colab": {
          "base_uri": "https://localhost:8080/"
        },
        "id": "gASMigF_E3Bs",
        "outputId": "7f87a7ed-fbb5-4b88-cfec-896686441c42"
      },
      "execution_count": 7,
      "outputs": [
        {
          "output_type": "stream",
          "name": "stdout",
          "text": [
            "English sample 1:  new jersey is sometimes quiet during autumn , and it is snowy in april .\n",
            "French sample 1:  new jersey est parfois calme pendant l' automne , et il est neigeux en avril .\n",
            "\n",
            "English sample 2:  the united states is usually chilly during july , and it is usually freezing in november .\n",
            "French sample 2:  les états-unis est généralement froid en juillet , et il gèle habituellement en novembre .\n",
            "\n",
            "English sample 3:  california is usually quiet during march , and it is usually hot in june .\n",
            "French sample 3:  california est généralement calme en mars , et il est généralement chaud en juin .\n",
            "\n",
            "English sample 4:  the united states is sometimes mild during june , and it is cold in september .\n",
            "French sample 4:  les états-unis est parfois légère en juin , et il fait froid en septembre .\n",
            "\n",
            "English sample 5:  your least liked fruit is the grape , but my least liked is the apple .\n",
            "French sample 5:  votre moins aimé fruit est le raisin , mais mon moins aimé est la pomme .\n",
            "\n"
          ]
        }
      ]
    },
    {
      "cell_type": "code",
      "source": [
        "def sentence_tokenize(lst_sentences):\n",
        "  tok = Tokenizer()\n",
        "  tok.fit_on_texts(lst_sentences)\n",
        "  return tok.texts_to_sequences(lst_sentences),tok"
      ],
      "metadata": {
        "id": "z4Na3dK6FUfT"
      },
      "execution_count": 8,
      "outputs": []
    },
    {
      "cell_type": "code",
      "source": [
        "def sentence_padding(x,length=None):\n",
        "  return pad_sequences(x, maxlen=length, padding='post')"
      ],
      "metadata": {
        "id": "7M61ttTzFUh4"
      },
      "execution_count": 9,
      "outputs": []
    },
    {
      "cell_type": "code",
      "source": [
        "def preprocess(input,target):\n",
        "  input_seq,input_tokenizer = sentence_tokenize(input)\n",
        "  target_seq, target_tokenizer = sentence_tokenize(target)\n",
        "  input_seq = sentence_padding(input_seq)\n",
        "  target_seq = sentence_padding(target_seq)\n",
        "\n",
        "  target_seq = target_seq.reshape(*target_seq.shape, 1)\n",
        "  return input_seq, target_seq, input_tokenizer, target_tokenizer"
      ],
      "metadata": {
        "id": "7rfMc4xbFUjd"
      },
      "execution_count": 10,
      "outputs": []
    },
    {
      "cell_type": "code",
      "source": [
        "preproc_english_sentences, preproc_french_sentences, english_tokenizer, french_tokenizer = preprocess(english['data'], french['data'])"
      ],
      "metadata": {
        "id": "n2QlTzldFUlj"
      },
      "execution_count": 11,
      "outputs": []
    },
    {
      "cell_type": "code",
      "source": [
        "def inverse_to_text(logits,tokenizer):\n",
        "  index_to_words = {id: word for word, id in tokenizer.word_index.items()}\n",
        "  index_to_words[0] = ''\n",
        "  return ' '.join([index_to_words[prediction] for prediction in np.argmax(logits, 1)])\n",
        "  #Returns the indices of the maximum values along an axis."
      ],
      "metadata": {
        "id": "lVDHmDJqFUpO"
      },
      "execution_count": 12,
      "outputs": []
    },
    {
      "cell_type": "code",
      "source": [
        "english_tokenizer.sequences_to_texts([preproc_english_sentences[0]])"
      ],
      "metadata": {
        "colab": {
          "base_uri": "https://localhost:8080/"
        },
        "id": "7AqMPlacFUrv",
        "outputId": "8a55154a-6d21-4ae2-b9c7-be4bade22c57"
      },
      "execution_count": 14,
      "outputs": [
        {
          "output_type": "execute_result",
          "data": {
            "text/plain": [
              "['new jersey is sometimes quiet during autumn and it is snowy in april']"
            ]
          },
          "metadata": {},
          "execution_count": 14
        }
      ]
    },
    {
      "cell_type": "code",
      "source": [
        "max_english_sequence_length = preproc_english_sentences.shape[1]\n",
        "max_french_sequence_length = preproc_french_sentences.shape[1]\n",
        "english_vocab_size = len(english_tokenizer.word_index)\n",
        "french_vocab_size = len(french_tokenizer.word_index)\n",
        "\n",
        "print('Data Preprocessed')\n",
        "print(\"Max English sentence length:\", max_english_sequence_length)\n",
        "print(\"Max French sentence length:\", max_french_sequence_length)\n",
        "print(\"English vocabulary size:\", english_vocab_size)\n",
        "print(\"French vocabulary size:\", french_vocab_size)"
      ],
      "metadata": {
        "colab": {
          "base_uri": "https://localhost:8080/"
        },
        "id": "YnoYooEFMiov",
        "outputId": "3397ef2e-e6c3-4698-c5c0-939e64ef23c9"
      },
      "execution_count": 13,
      "outputs": [
        {
          "output_type": "stream",
          "name": "stdout",
          "text": [
            "Data Preprocessed\n",
            "Max English sentence length: 15\n",
            "Max French sentence length: 21\n",
            "English vocabulary size: 199\n",
            "French vocabulary size: 344\n"
          ]
        }
      ]
    },
    {
      "cell_type": "code",
      "source": [
        "def simple_model(input_shape, output_sequence_length, english_vocab_size, french_vocab_size):\n",
        "\n",
        "    # Hyperparameters\n",
        "    learning_rate = 0.005\n",
        "    \n",
        "    # TODO: Build the layers\n",
        "    model = Sequential()\n",
        "    model.add(GRU(256, input_shape=input_shape[1:], return_sequences=True))\n",
        "    model.add(TimeDistributed(Dense(1024, activation='relu')))\n",
        "    model.add(Dropout(0.5))\n",
        "    model.add(TimeDistributed(Dense(french_vocab_size, activation='softmax'))) \n",
        "\n",
        "    # Compile model\n",
        "    model.compile(loss='sparse_categorical_crossentropy',\n",
        "                  optimizer='adam',\n",
        "                  metrics=['accuracy'])\n",
        "    return model\n",
        "\n",
        "# Reshaping the input to work with a basic RNN\n",
        "\n",
        "tmp_x = sentence_padding(preproc_english_sentences,max_french_sequence_length)\n",
        "tmp_x = tmp_x.reshape((-1, preproc_french_sentences.shape[-2], 1))\n",
        "\n",
        "# Train the neural network\n",
        "simple_rnn_model = simple_model(\n",
        "    tmp_x.shape,\n",
        "    preproc_french_sentences.shape[1],\n",
        "    english_vocab_size,\n",
        "    french_vocab_size)\n",
        "\n",
        "print(simple_rnn_model.summary())\n",
        "\n",
        "simple_rnn_model.fit(tmp_x, preproc_french_sentences, batch_size=1024, epochs=10, validation_split=0.2)\n",
        "\n",
        "# Print prediction(s)\n",
        "print(inverse_to_text(simple_rnn_model.predict(tmp_x[:1])[0], french_tokenizer))"
      ],
      "metadata": {
        "colab": {
          "base_uri": "https://localhost:8080/"
        },
        "id": "HYPhN4URLJJI",
        "outputId": "9ed38acb-c91b-4f86-cdf1-93e8a781e16a"
      },
      "execution_count": 16,
      "outputs": [
        {
          "output_type": "stream",
          "name": "stdout",
          "text": [
            "Model: \"sequential\"\n",
            "_________________________________________________________________\n",
            " Layer (type)                Output Shape              Param #   \n",
            "=================================================================\n",
            " gru (GRU)                   (None, 21, 256)           198912    \n",
            "                                                                 \n",
            " time_distributed (TimeDistr  (None, 21, 1024)         263168    \n",
            " ibuted)                                                         \n",
            "                                                                 \n",
            " dropout (Dropout)           (None, 21, 1024)          0         \n",
            "                                                                 \n",
            " time_distributed_1 (TimeDis  (None, 21, 344)          352600    \n",
            " tributed)                                                       \n",
            "                                                                 \n",
            "=================================================================\n",
            "Total params: 814,680\n",
            "Trainable params: 814,680\n",
            "Non-trainable params: 0\n",
            "_________________________________________________________________\n",
            "None\n",
            "Epoch 1/10\n",
            "108/108 [==============================] - 13s 52ms/step - loss: 2.3550 - accuracy: 0.5025 - val_loss: nan - val_accuracy: 0.5854\n",
            "Epoch 2/10\n",
            "108/108 [==============================] - 5s 50ms/step - loss: 1.4904 - accuracy: 0.5958 - val_loss: nan - val_accuracy: 0.6250\n",
            "Epoch 3/10\n",
            "108/108 [==============================] - 5s 48ms/step - loss: 1.2883 - accuracy: 0.6302 - val_loss: nan - val_accuracy: 0.6524\n",
            "Epoch 4/10\n",
            "108/108 [==============================] - 5s 48ms/step - loss: 1.1766 - accuracy: 0.6521 - val_loss: nan - val_accuracy: 0.6664\n",
            "Epoch 5/10\n",
            "108/108 [==============================] - 5s 50ms/step - loss: 1.1049 - accuracy: 0.6651 - val_loss: nan - val_accuracy: 0.6842\n",
            "Epoch 6/10\n",
            "108/108 [==============================] - 5s 51ms/step - loss: 1.0480 - accuracy: 0.6757 - val_loss: nan - val_accuracy: 0.6949\n",
            "Epoch 7/10\n",
            "108/108 [==============================] - 5s 49ms/step - loss: 1.0027 - accuracy: 0.6845 - val_loss: nan - val_accuracy: 0.7005\n",
            "Epoch 8/10\n",
            "108/108 [==============================] - 5s 51ms/step - loss: 0.9639 - accuracy: 0.6921 - val_loss: nan - val_accuracy: 0.7082\n",
            "Epoch 9/10\n",
            "108/108 [==============================] - 5s 49ms/step - loss: 0.9333 - accuracy: 0.6975 - val_loss: nan - val_accuracy: 0.7160\n",
            "Epoch 10/10\n",
            "108/108 [==============================] - 6s 51ms/step - loss: 0.9047 - accuracy: 0.7031 - val_loss: nan - val_accuracy: 0.7213\n",
            "new jersey est parfois chaud en mois et il et il est en en       \n"
          ]
        }
      ]
    },
    {
      "cell_type": "code",
      "source": [
        "def simple_model(input_shape, output_sequence_length, english_vocab_size, french_vocab_size):\n",
        "\n",
        "    # Hyperparameters\n",
        "    learning_rate = 0.002\n",
        "    \n",
        "    # TODO: Build the layers\n",
        "    model = Sequential()\n",
        "    model.add(LSTM(256, input_shape=input_shape[1:], return_sequences=True))\n",
        "    model.add(TimeDistributed(Dense(1024, activation='relu')))\n",
        "    model.add(Dropout(0.2))\n",
        "    model.add(TimeDistributed(Dense(french_vocab_size, activation='softmax'))) \n",
        "\n",
        "    # Compile model\n",
        "    model.compile(loss='sparse_categorical_crossentropy',\n",
        "                  optimizer='adam',\n",
        "                  metrics=['accuracy'])\n",
        "    return model\n",
        "\n",
        "# Reshaping the input to work with a basic RNN\n",
        "\n",
        "tmp_x = sentence_padding(preproc_english_sentences,max_french_sequence_length)\n",
        "tmp_x = tmp_x.reshape((-1, preproc_french_sentences.shape[-2], 1))\n",
        "\n",
        "# Train the neural network\n",
        "simple_rnn_model = simple_model(\n",
        "    tmp_x.shape,\n",
        "    preproc_french_sentences.shape[1],\n",
        "    english_vocab_size,\n",
        "    french_vocab_size)\n",
        "\n",
        "print(simple_rnn_model.summary())\n",
        "\n",
        "simple_rnn_model.fit(tmp_x, preproc_french_sentences, batch_size=1024, epochs=25, validation_split=0.2)\n",
        "\n",
        "# Print prediction(s)\n",
        "print(inverse_to_text(simple_rnn_model.predict(tmp_x[:1])[0], french_tokenizer))"
      ],
      "metadata": {
        "id": "OnbG3alaFUuF",
        "colab": {
          "base_uri": "https://localhost:8080/"
        },
        "outputId": "cf565f40-5645-462b-f929-1d6dd4f2e7ec"
      },
      "execution_count": 16,
      "outputs": [
        {
          "output_type": "stream",
          "name": "stdout",
          "text": [
            "Model: \"sequential_2\"\n",
            "_________________________________________________________________\n",
            " Layer (type)                Output Shape              Param #   \n",
            "=================================================================\n",
            " lstm_2 (LSTM)               (None, 21, 256)           264192    \n",
            "                                                                 \n",
            " time_distributed_4 (TimeDis  (None, 21, 1024)         263168    \n",
            " tributed)                                                       \n",
            "                                                                 \n",
            " dropout_2 (Dropout)         (None, 21, 1024)          0         \n",
            "                                                                 \n",
            " time_distributed_5 (TimeDis  (None, 21, 344)          352600    \n",
            " tributed)                                                       \n",
            "                                                                 \n",
            "=================================================================\n",
            "Total params: 879,960\n",
            "Trainable params: 879,960\n",
            "Non-trainable params: 0\n",
            "_________________________________________________________________\n",
            "None\n",
            "Epoch 1/25\n",
            "108/108 [==============================] - 8s 60ms/step - loss: 2.4036 - accuracy: 0.4842 - val_loss: nan - val_accuracy: 0.5695\n",
            "Epoch 2/25\n",
            "108/108 [==============================] - 6s 54ms/step - loss: 1.5070 - accuracy: 0.5957 - val_loss: nan - val_accuracy: 0.6241\n",
            "Epoch 3/25\n",
            "108/108 [==============================] - 6s 54ms/step - loss: 1.3059 - accuracy: 0.6258 - val_loss: nan - val_accuracy: 0.6493\n",
            "Epoch 4/25\n",
            "108/108 [==============================] - 6s 54ms/step - loss: 1.2048 - accuracy: 0.6451 - val_loss: nan - val_accuracy: 0.6609\n",
            "Epoch 5/25\n",
            "108/108 [==============================] - 6s 55ms/step - loss: 1.1336 - accuracy: 0.6601 - val_loss: nan - val_accuracy: 0.6788\n",
            "Epoch 6/25\n",
            "108/108 [==============================] - 6s 55ms/step - loss: 1.0779 - accuracy: 0.6720 - val_loss: nan - val_accuracy: 0.6893\n",
            "Epoch 7/25\n",
            "108/108 [==============================] - 6s 57ms/step - loss: 1.0368 - accuracy: 0.6803 - val_loss: nan - val_accuracy: 0.6913\n",
            "Epoch 8/25\n",
            "108/108 [==============================] - 6s 55ms/step - loss: 1.0011 - accuracy: 0.6871 - val_loss: nan - val_accuracy: 0.7002\n",
            "Epoch 9/25\n",
            "108/108 [==============================] - 6s 54ms/step - loss: 0.9727 - accuracy: 0.6920 - val_loss: nan - val_accuracy: 0.7048\n",
            "Epoch 10/25\n",
            "108/108 [==============================] - 6s 54ms/step - loss: 0.9469 - accuracy: 0.6970 - val_loss: nan - val_accuracy: 0.7113\n",
            "Epoch 11/25\n",
            "108/108 [==============================] - 6s 54ms/step - loss: 0.9236 - accuracy: 0.7013 - val_loss: nan - val_accuracy: 0.7128\n",
            "Epoch 12/25\n",
            "108/108 [==============================] - 6s 54ms/step - loss: 0.9022 - accuracy: 0.7051 - val_loss: nan - val_accuracy: 0.7158\n",
            "Epoch 13/25\n",
            "108/108 [==============================] - 6s 56ms/step - loss: 0.8830 - accuracy: 0.7092 - val_loss: nan - val_accuracy: 0.7191\n",
            "Epoch 14/25\n",
            "108/108 [==============================] - 6s 54ms/step - loss: 0.8644 - accuracy: 0.7134 - val_loss: nan - val_accuracy: 0.7303\n",
            "Epoch 15/25\n",
            "108/108 [==============================] - 6s 54ms/step - loss: 0.8491 - accuracy: 0.7168 - val_loss: nan - val_accuracy: 0.7320\n",
            "Epoch 16/25\n",
            "108/108 [==============================] - 6s 54ms/step - loss: 0.8365 - accuracy: 0.7191 - val_loss: nan - val_accuracy: 0.7331\n",
            "Epoch 17/25\n",
            "108/108 [==============================] - 6s 54ms/step - loss: 0.8199 - accuracy: 0.7235 - val_loss: nan - val_accuracy: 0.7325\n",
            "Epoch 18/25\n",
            "108/108 [==============================] - 6s 54ms/step - loss: 0.8096 - accuracy: 0.7253 - val_loss: nan - val_accuracy: 0.7401\n",
            "Epoch 19/25\n",
            "108/108 [==============================] - 6s 54ms/step - loss: 0.7950 - accuracy: 0.7294 - val_loss: nan - val_accuracy: 0.7439\n",
            "Epoch 20/25\n",
            "108/108 [==============================] - 6s 54ms/step - loss: 0.7872 - accuracy: 0.7303 - val_loss: nan - val_accuracy: 0.7443\n",
            "Epoch 21/25\n",
            "108/108 [==============================] - 6s 54ms/step - loss: 0.7740 - accuracy: 0.7339 - val_loss: nan - val_accuracy: 0.7508\n",
            "Epoch 22/25\n",
            "108/108 [==============================] - 6s 54ms/step - loss: 0.7616 - accuracy: 0.7373 - val_loss: nan - val_accuracy: 0.7521\n",
            "Epoch 23/25\n",
            "108/108 [==============================] - 6s 54ms/step - loss: 0.7494 - accuracy: 0.7409 - val_loss: nan - val_accuracy: 0.7577\n",
            "Epoch 24/25\n",
            "108/108 [==============================] - 6s 54ms/step - loss: 0.7369 - accuracy: 0.7451 - val_loss: nan - val_accuracy: 0.7650\n",
            "Epoch 25/25\n",
            "108/108 [==============================] - 6s 54ms/step - loss: 0.7246 - accuracy: 0.7495 - val_loss: nan - val_accuracy: 0.7565\n",
            "new jersey est parfois chaud en mois de il et il est en        \n"
          ]
        }
      ]
    },
    {
      "cell_type": "code",
      "source": [
        "def bd_model(input_shape, output_sequence_length, english_vocab_size, french_vocab_size):\n",
        "\n",
        "    # Hyperparameters\n",
        "    learning_rate = 0.003\n",
        "    \n",
        "    # TODO: Build the layers\n",
        "    model = Sequential()\n",
        "    #model.add(Bidirectional(GRU(128, return_sequences=True), input_shape=[input_shape[1:]]))\n",
        "    model.add(Bidirectional(GRU(128, return_sequences=True)))\n",
        "    model.add(TimeDistributed(Dense(1024, activation='relu')))\n",
        "    model.add(Dropout(0.5))\n",
        "    model.add(TimeDistributed(Dense(french_vocab_size, activation='softmax'))) \n",
        "\n",
        "    # Compile model\n",
        "    model.compile(loss='sparse_categorical_crossentropy',\n",
        "                  optimizer='adam',\n",
        "                  metrics=['accuracy'])\n",
        "    return model\n",
        "\n",
        "\n",
        "# TODO: Reshape the input\n",
        "tmp_x = sentence_padding(preproc_english_sentences, preproc_french_sentences.shape[1])\n",
        "tmp_x = tmp_x.reshape((-1, preproc_french_sentences.shape[-2]))\n",
        "\n",
        "# TODO: Train and Print prediction(s)\n",
        "embed_rnn_model = bd_model(\n",
        "    tmp_x.shape,\n",
        "    preproc_french_sentences.shape[1],\n",
        "    len(english_tokenizer.word_index)+1,\n",
        "    len(french_tokenizer.word_index)+1)\n",
        "\n",
        "embed_rnn_model.summary()\n",
        "\n",
        "embed_rnn_model.fit(tmp_x, preproc_french_sentences, batch_size=1024, epochs=10, validation_split=0.2)\n",
        "\n",
        "print(inverse_to_text(embed_rnn_model.predict(tmp_x[:1])[0], french_tokenizer))"
      ],
      "metadata": {
        "id": "H0d3IsnqLJLP",
        "colab": {
          "base_uri": "https://localhost:8080/",
          "height": 779
        },
        "outputId": "22447b84-4227-4217-91e1-d6950d5392c6"
      },
      "execution_count": 21,
      "outputs": [
        {
          "output_type": "stream",
          "name": "stdout",
          "text": [
            "Epoch 1/10\n"
          ]
        },
        {
          "output_type": "error",
          "ename": "ValueError",
          "evalue": "ignored",
          "traceback": [
            "\u001b[0;31m---------------------------------------------------------------------------\u001b[0m",
            "\u001b[0;31mValueError\u001b[0m                                Traceback (most recent call last)",
            "\u001b[0;32m<ipython-input-21-e1099f4d0f35>\u001b[0m in \u001b[0;36m<module>\u001b[0;34m()\u001b[0m\n\u001b[1;32m     32\u001b[0m \u001b[0;31m#embed_rnn_model.summary()\u001b[0m\u001b[0;34m\u001b[0m\u001b[0;34m\u001b[0m\u001b[0;34m\u001b[0m\u001b[0m\n\u001b[1;32m     33\u001b[0m \u001b[0;34m\u001b[0m\u001b[0m\n\u001b[0;32m---> 34\u001b[0;31m \u001b[0membed_rnn_model\u001b[0m\u001b[0;34m.\u001b[0m\u001b[0mfit\u001b[0m\u001b[0;34m(\u001b[0m\u001b[0mtmp_x\u001b[0m\u001b[0;34m,\u001b[0m \u001b[0mpreproc_french_sentences\u001b[0m\u001b[0;34m,\u001b[0m \u001b[0mbatch_size\u001b[0m\u001b[0;34m=\u001b[0m\u001b[0;36m1024\u001b[0m\u001b[0;34m,\u001b[0m \u001b[0mepochs\u001b[0m\u001b[0;34m=\u001b[0m\u001b[0;36m10\u001b[0m\u001b[0;34m,\u001b[0m \u001b[0mvalidation_split\u001b[0m\u001b[0;34m=\u001b[0m\u001b[0;36m0.2\u001b[0m\u001b[0;34m)\u001b[0m\u001b[0;34m\u001b[0m\u001b[0;34m\u001b[0m\u001b[0m\n\u001b[0m\u001b[1;32m     35\u001b[0m \u001b[0;34m\u001b[0m\u001b[0m\n\u001b[1;32m     36\u001b[0m \u001b[0mprint\u001b[0m\u001b[0;34m(\u001b[0m\u001b[0minverse_to_text\u001b[0m\u001b[0;34m(\u001b[0m\u001b[0membed_rnn_model\u001b[0m\u001b[0;34m.\u001b[0m\u001b[0mpredict\u001b[0m\u001b[0;34m(\u001b[0m\u001b[0mtmp_x\u001b[0m\u001b[0;34m[\u001b[0m\u001b[0;34m:\u001b[0m\u001b[0;36m1\u001b[0m\u001b[0;34m]\u001b[0m\u001b[0;34m)\u001b[0m\u001b[0;34m[\u001b[0m\u001b[0;36m0\u001b[0m\u001b[0;34m]\u001b[0m\u001b[0;34m,\u001b[0m \u001b[0mfrench_tokenizer\u001b[0m\u001b[0;34m)\u001b[0m\u001b[0;34m)\u001b[0m\u001b[0;34m\u001b[0m\u001b[0;34m\u001b[0m\u001b[0m\n",
            "\u001b[0;32m/usr/local/lib/python3.7/dist-packages/keras/utils/traceback_utils.py\u001b[0m in \u001b[0;36merror_handler\u001b[0;34m(*args, **kwargs)\u001b[0m\n\u001b[1;32m     65\u001b[0m     \u001b[0;32mexcept\u001b[0m \u001b[0mException\u001b[0m \u001b[0;32mas\u001b[0m \u001b[0me\u001b[0m\u001b[0;34m:\u001b[0m  \u001b[0;31m# pylint: disable=broad-except\u001b[0m\u001b[0;34m\u001b[0m\u001b[0;34m\u001b[0m\u001b[0m\n\u001b[1;32m     66\u001b[0m       \u001b[0mfiltered_tb\u001b[0m \u001b[0;34m=\u001b[0m \u001b[0m_process_traceback_frames\u001b[0m\u001b[0;34m(\u001b[0m\u001b[0me\u001b[0m\u001b[0;34m.\u001b[0m\u001b[0m__traceback__\u001b[0m\u001b[0;34m)\u001b[0m\u001b[0;34m\u001b[0m\u001b[0;34m\u001b[0m\u001b[0m\n\u001b[0;32m---> 67\u001b[0;31m       \u001b[0;32mraise\u001b[0m \u001b[0me\u001b[0m\u001b[0;34m.\u001b[0m\u001b[0mwith_traceback\u001b[0m\u001b[0;34m(\u001b[0m\u001b[0mfiltered_tb\u001b[0m\u001b[0;34m)\u001b[0m \u001b[0;32mfrom\u001b[0m \u001b[0;32mNone\u001b[0m\u001b[0;34m\u001b[0m\u001b[0;34m\u001b[0m\u001b[0m\n\u001b[0m\u001b[1;32m     68\u001b[0m     \u001b[0;32mfinally\u001b[0m\u001b[0;34m:\u001b[0m\u001b[0;34m\u001b[0m\u001b[0;34m\u001b[0m\u001b[0m\n\u001b[1;32m     69\u001b[0m       \u001b[0;32mdel\u001b[0m \u001b[0mfiltered_tb\u001b[0m\u001b[0;34m\u001b[0m\u001b[0;34m\u001b[0m\u001b[0m\n",
            "\u001b[0;32m/usr/local/lib/python3.7/dist-packages/tensorflow/python/framework/func_graph.py\u001b[0m in \u001b[0;36mautograph_handler\u001b[0;34m(*args, **kwargs)\u001b[0m\n\u001b[1;32m   1145\u001b[0m           \u001b[0;32mexcept\u001b[0m \u001b[0mException\u001b[0m \u001b[0;32mas\u001b[0m \u001b[0me\u001b[0m\u001b[0;34m:\u001b[0m  \u001b[0;31m# pylint:disable=broad-except\u001b[0m\u001b[0;34m\u001b[0m\u001b[0;34m\u001b[0m\u001b[0m\n\u001b[1;32m   1146\u001b[0m             \u001b[0;32mif\u001b[0m \u001b[0mhasattr\u001b[0m\u001b[0;34m(\u001b[0m\u001b[0me\u001b[0m\u001b[0;34m,\u001b[0m \u001b[0;34m\"ag_error_metadata\"\u001b[0m\u001b[0;34m)\u001b[0m\u001b[0;34m:\u001b[0m\u001b[0;34m\u001b[0m\u001b[0;34m\u001b[0m\u001b[0m\n\u001b[0;32m-> 1147\u001b[0;31m               \u001b[0;32mraise\u001b[0m \u001b[0me\u001b[0m\u001b[0;34m.\u001b[0m\u001b[0mag_error_metadata\u001b[0m\u001b[0;34m.\u001b[0m\u001b[0mto_exception\u001b[0m\u001b[0;34m(\u001b[0m\u001b[0me\u001b[0m\u001b[0;34m)\u001b[0m\u001b[0;34m\u001b[0m\u001b[0;34m\u001b[0m\u001b[0m\n\u001b[0m\u001b[1;32m   1148\u001b[0m             \u001b[0;32melse\u001b[0m\u001b[0;34m:\u001b[0m\u001b[0;34m\u001b[0m\u001b[0;34m\u001b[0m\u001b[0m\n\u001b[1;32m   1149\u001b[0m               \u001b[0;32mraise\u001b[0m\u001b[0;34m\u001b[0m\u001b[0;34m\u001b[0m\u001b[0m\n",
            "\u001b[0;31mValueError\u001b[0m: in user code:\n\n    File \"/usr/local/lib/python3.7/dist-packages/keras/engine/training.py\", line 1021, in train_function  *\n        return step_function(self, iterator)\n    File \"/usr/local/lib/python3.7/dist-packages/keras/engine/training.py\", line 1010, in step_function  **\n        outputs = model.distribute_strategy.run(run_step, args=(data,))\n    File \"/usr/local/lib/python3.7/dist-packages/keras/engine/training.py\", line 1000, in run_step  **\n        outputs = model.train_step(data)\n    File \"/usr/local/lib/python3.7/dist-packages/keras/engine/training.py\", line 859, in train_step\n        y_pred = self(x, training=True)\n    File \"/usr/local/lib/python3.7/dist-packages/keras/utils/traceback_utils.py\", line 67, in error_handler\n        raise e.with_traceback(filtered_tb) from None\n    File \"/usr/local/lib/python3.7/dist-packages/keras/engine/input_spec.py\", line 214, in assert_input_compatibility\n        raise ValueError(f'Input {input_index} of layer \"{layer_name}\" '\n\n    ValueError: Exception encountered when calling layer \"sequential_4\" (type Sequential).\n    \n    Input 0 of layer \"bidirectional_3\" is incompatible with the layer: expected ndim=3, found ndim=2. Full shape received: (None, 21)\n    \n    Call arguments received:\n      • inputs=tf.Tensor(shape=(None, 21), dtype=int32)\n      • training=True\n      • mask=None\n"
          ]
        }
      ]
    }
  ]
}