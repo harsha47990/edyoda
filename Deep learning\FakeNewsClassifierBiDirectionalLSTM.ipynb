{
  "nbformat": 4,
  "nbformat_minor": 0,
  "metadata": {
    "colab": {
      "name": "FakeNewsClassifierBiDirectionalLSTM.ipynb",
      "provenance": [],
      "collapsed_sections": [],
      "authorship_tag": "ABX9TyPSQcNenfdjKu2t5uNYEPoa"
    },
    "kernelspec": {
      "name": "python3",
      "display_name": "Python 3"
    },
    "language_info": {
      "name": "python"
    },
    "accelerator": "GPU",
    "gpuClass": "standard"
  },
  "cells": [
    {
      "cell_type": "code",
      "execution_count": null,
      "metadata": {
        "id": "uOK7BrY0GgQD"
      },
      "outputs": [],
      "source": [
        ""
      ]
    },
    {
      "cell_type": "code",
      "source": [
        "from google.colab import drive\n",
        "drive.mount('/content/drive')\n"
      ],
      "metadata": {
        "id": "zH86NzFSIbuM"
      },
      "execution_count": null,
      "outputs": []
    },
    {
      "cell_type": "code",
      "source": [
        "import pandas as pd"
      ],
      "metadata": {
        "id": "U5L3wfsdIsPE"
      },
      "execution_count": 1,
      "outputs": []
    },
    {
      "cell_type": "code",
      "source": [
        "df = pd.read_csv('/content/train.csv')"
      ],
      "metadata": {
        "id": "FhSj8IZqIsS9"
      },
      "execution_count": 7,
      "outputs": []
    },
    {
      "cell_type": "code",
      "source": [
        "from tensorflow.keras.preprocessing.text import one_hot\n",
        "from tensorflow.keras.preprocessing.sequence import pad_sequences\n",
        "from tensorflow.keras.layers import LSTM,Dense,Embedding,Bidirectional\n",
        "from tensorflow.keras.models import Sequential"
      ],
      "metadata": {
        "id": "BmTd8GLpIsV6"
      },
      "execution_count": 4,
      "outputs": []
    },
    {
      "cell_type": "code",
      "source": [
        "import nltk\n",
        "from nltk.corpus import stopwords\n",
        "import re"
      ],
      "metadata": {
        "id": "Iz_C6EmnLMx7"
      },
      "execution_count": 6,
      "outputs": []
    },
    {
      "cell_type": "code",
      "source": [
        "df.dropna(inplace=True)"
      ],
      "metadata": {
        "id": "4sIQBRiFLDU0"
      },
      "execution_count": 8,
      "outputs": []
    },
    {
      "cell_type": "code",
      "source": [
        "df.reset_index(inplace=True)\n",
        "X = df.drop('label',axis = 1)\n",
        "Y = df['label']"
      ],
      "metadata": {
        "id": "-rkDrX8dLDX4"
      },
      "execution_count": 9,
      "outputs": []
    },
    {
      "cell_type": "code",
      "source": [
        "X.shape"
      ],
      "metadata": {
        "colab": {
          "base_uri": "https://localhost:8080/"
        },
        "id": "4nMe2HX6LDaB",
        "outputId": "70c677d3-d0a1-4957-d9dc-c4c584f1b4b0"
      },
      "execution_count": 13,
      "outputs": [
        {
          "output_type": "execute_result",
          "data": {
            "text/plain": [
              "(18285, 3)"
            ]
          },
          "metadata": {},
          "execution_count": 13
        }
      ]
    },
    {
      "cell_type": "code",
      "source": [
        "X.drop(['index','id'],axis = 1,inplace=True)"
      ],
      "metadata": {
        "id": "6f4PfzslNOmy"
      },
      "execution_count": 12,
      "outputs": []
    },
    {
      "cell_type": "code",
      "source": [
        "from nltk.stem.porter import PorterStemmer"
      ],
      "metadata": {
        "id": "N1s3lwyJNOpJ"
      },
      "execution_count": 14,
      "outputs": []
    },
    {
      "cell_type": "code",
      "source": [
        "nltk.download('stopwords')"
      ],
      "metadata": {
        "colab": {
          "base_uri": "https://localhost:8080/"
        },
        "id": "uHBPNjRJQgpS",
        "outputId": "fe36f518-1cae-477b-cdf4-933de511c6bb"
      },
      "execution_count": 17,
      "outputs": [
        {
          "output_type": "stream",
          "name": "stderr",
          "text": [
            "[nltk_data] Downloading package stopwords to /root/nltk_data...\n",
            "[nltk_data]   Unzipping corpora/stopwords.zip.\n"
          ]
        },
        {
          "output_type": "execute_result",
          "data": {
            "text/plain": [
              "True"
            ]
          },
          "metadata": {},
          "execution_count": 17
        }
      ]
    },
    {
      "cell_type": "code",
      "source": [
        "ps = PorterStemmer()\n",
        "corpus= []\n",
        "for i in range(0,len(X)):\n",
        "  title = re.sub('^[a-zA-Z]',' ',X['title'][i])\n",
        "  title = title.lower()\n",
        "  title = title.split()\n",
        "  title = [ps.stem(word) for word in title if not word in stopwords.words('english')]\n",
        "  title = ' '.join(title)\n",
        "  corpus.append(title)"
      ],
      "metadata": {
        "id": "FypIUNlpNOrh"
      },
      "execution_count": 19,
      "outputs": []
    },
    {
      "cell_type": "code",
      "source": [
        "voc_size = 5000\n",
        "one_hot_repr = [one_hot(words,voc_size) for words in corpus]"
      ],
      "metadata": {
        "id": "2xEhg69lNOxr"
      },
      "execution_count": 21,
      "outputs": []
    },
    {
      "cell_type": "code",
      "source": [
        "max_size = 20\n",
        "embedded_repr = pad_sequences(one_hot_repr,padding='pre',maxlen=max_size)"
      ],
      "metadata": {
        "id": "QaJJsNhwLDcs"
      },
      "execution_count": 23,
      "outputs": []
    },
    {
      "cell_type": "code",
      "source": [
        "embedded_repr"
      ],
      "metadata": {
        "colab": {
          "base_uri": "https://localhost:8080/"
        },
        "id": "ciFssDnmR8h_",
        "outputId": "dddd0216-8511-42bc-a29a-385873217b2c"
      },
      "execution_count": 24,
      "outputs": [
        {
          "output_type": "execute_result",
          "data": {
            "text/plain": [
              "array([[   0,    0,    0, ..., 2210, 2794, 4474],\n",
              "       [   0,    0,    0, ..., 3495, 3067, 1144],\n",
              "       [   0,    0,    0, ..., 4395, 4389, 2277],\n",
              "       ...,\n",
              "       [   0,    0,    0, ...,  626, 3607, 4113],\n",
              "       [   0,    0,    0, ..., 3754,  252, 2609],\n",
              "       [   0,    0,    0, ..., 1305, 2453, 3917]], dtype=int32)"
            ]
          },
          "metadata": {},
          "execution_count": 24
        }
      ]
    },
    {
      "cell_type": "code",
      "source": [
        "embedding_features = 40\n",
        "model = Sequential()\n",
        "model.add(Embedding(voc_size,embedding_features,input_length=max_size))\n",
        "model.add(Bidirectional(LSTM(100)))\n",
        "model.add(Dense(1,activation='sigmoid'))\n",
        "model.compile(loss='binary_crossentropy',optimizer='adam',metrics=['accuracy'])"
      ],
      "metadata": {
        "id": "jN17M22KR8kJ"
      },
      "execution_count": 41,
      "outputs": []
    },
    {
      "cell_type": "code",
      "source": [
        "model.summary()"
      ],
      "metadata": {
        "colab": {
          "base_uri": "https://localhost:8080/"
        },
        "id": "EO8OSx8xR8lu",
        "outputId": "a3bccb38-b5ca-48a9-f4a9-e404b478a4eb"
      },
      "execution_count": 42,
      "outputs": [
        {
          "output_type": "stream",
          "name": "stdout",
          "text": [
            "Model: \"sequential_4\"\n",
            "_________________________________________________________________\n",
            " Layer (type)                Output Shape              Param #   \n",
            "=================================================================\n",
            " embedding_3 (Embedding)     (None, 20, 40)            200000    \n",
            "                                                                 \n",
            " bidirectional (Bidirectiona  (None, 200)              112800    \n",
            " l)                                                              \n",
            "                                                                 \n",
            " dense_2 (Dense)             (None, 1)                 201       \n",
            "                                                                 \n",
            "=================================================================\n",
            "Total params: 313,001\n",
            "Trainable params: 313,001\n",
            "Non-trainable params: 0\n",
            "_________________________________________________________________\n"
          ]
        }
      ]
    },
    {
      "cell_type": "code",
      "source": [
        "import numpy as np\n",
        "X_final = np.array(embedded_repr)"
      ],
      "metadata": {
        "id": "v8_fyJFpXQs8"
      },
      "execution_count": 30,
      "outputs": []
    },
    {
      "cell_type": "code",
      "source": [
        "model.fit(X_final,Y,validation_split=0.2,epochs=10,batch_size=72)"
      ],
      "metadata": {
        "colab": {
          "base_uri": "https://localhost:8080/"
        },
        "id": "0Y6sop2ZVBo0",
        "outputId": "98656e45-fb71-4cec-c457-71371bf334d7"
      },
      "execution_count": 43,
      "outputs": [
        {
          "output_type": "stream",
          "name": "stdout",
          "text": [
            "Epoch 1/10\n",
            "204/204 [==============================] - 6s 14ms/step - loss: 0.2877 - accuracy: 0.8609 - val_loss: 0.2096 - val_accuracy: 0.9169\n",
            "Epoch 2/10\n",
            "204/204 [==============================] - 2s 10ms/step - loss: 0.1315 - accuracy: 0.9495 - val_loss: 0.2197 - val_accuracy: 0.9147\n",
            "Epoch 3/10\n",
            "204/204 [==============================] - 2s 10ms/step - loss: 0.0875 - accuracy: 0.9681 - val_loss: 0.2435 - val_accuracy: 0.9109\n",
            "Epoch 4/10\n",
            "204/204 [==============================] - 2s 10ms/step - loss: 0.0597 - accuracy: 0.9783 - val_loss: 0.3529 - val_accuracy: 0.9109\n",
            "Epoch 5/10\n",
            "204/204 [==============================] - 2s 10ms/step - loss: 0.0366 - accuracy: 0.9878 - val_loss: 0.3586 - val_accuracy: 0.9057\n",
            "Epoch 6/10\n",
            "204/204 [==============================] - 2s 10ms/step - loss: 0.0235 - accuracy: 0.9921 - val_loss: 0.4197 - val_accuracy: 0.9109\n",
            "Epoch 7/10\n",
            "204/204 [==============================] - 2s 10ms/step - loss: 0.0134 - accuracy: 0.9957 - val_loss: 0.5374 - val_accuracy: 0.9068\n",
            "Epoch 8/10\n",
            "204/204 [==============================] - 2s 10ms/step - loss: 0.0111 - accuracy: 0.9967 - val_loss: 0.4624 - val_accuracy: 0.9035\n",
            "Epoch 9/10\n",
            "204/204 [==============================] - 2s 10ms/step - loss: 0.0147 - accuracy: 0.9953 - val_loss: 0.5511 - val_accuracy: 0.9040\n",
            "Epoch 10/10\n",
            "204/204 [==============================] - 2s 10ms/step - loss: 0.0067 - accuracy: 0.9979 - val_loss: 0.5338 - val_accuracy: 0.8999\n"
          ]
        },
        {
          "output_type": "execute_result",
          "data": {
            "text/plain": [
              "<keras.callbacks.History at 0x7f5a455829d0>"
            ]
          },
          "metadata": {},
          "execution_count": 43
        }
      ]
    },
    {
      "cell_type": "code",
      "source": [
        "from sklearn.model_selection import train_test_split \n",
        "x_train,x_test,y_train,y_test  =train_test_split(X_final,Y,test_size = 0.25)"
      ],
      "metadata": {
        "id": "SFu3DjazWk8G"
      },
      "execution_count": 44,
      "outputs": []
    },
    {
      "cell_type": "code",
      "source": [
        "x_test,y_test"
      ],
      "metadata": {
        "colab": {
          "base_uri": "https://localhost:8080/"
        },
        "id": "WOx5XpLYWk-O",
        "outputId": "ad2c81c6-f407-4542-d344-fccc856be190"
      },
      "execution_count": 45,
      "outputs": [
        {
          "output_type": "execute_result",
          "data": {
            "text/plain": [
              "(array([[   0,    0,    0, ..., 3995,  251, 1602],\n",
              "        [   0,    0,    0, ..., 2524, 1691, 3932],\n",
              "        [   0,    0,    0, ..., 2812, 4976, 1144],\n",
              "        ...,\n",
              "        [   0,    0,    0, ...,  626, 3607, 4113],\n",
              "        [   0,    0,    0, ..., 2975, 1188, 3960],\n",
              "        [   0,    0,    0, ..., 1516, 1110, 1258]], dtype=int32), 12748    1\n",
              " 13114    1\n",
              " 10201    0\n",
              " 13762    0\n",
              " 16       1\n",
              "         ..\n",
              " 15055    0\n",
              " 3819     1\n",
              " 16098    0\n",
              " 10125    1\n",
              " 882      1\n",
              " Name: label, Length: 4572, dtype: int64)"
            ]
          },
          "metadata": {},
          "execution_count": 45
        }
      ]
    },
    {
      "cell_type": "code",
      "source": [
        "pred = model.predict(x_test)"
      ],
      "metadata": {
        "id": "5hY8Q2mtVBqm"
      },
      "execution_count": 46,
      "outputs": []
    },
    {
      "cell_type": "code",
      "source": [
        "model.evaluate(x_test, y_test, verbose=2)"
      ],
      "metadata": {
        "colab": {
          "base_uri": "https://localhost:8080/"
        },
        "id": "Xrf5k3g2VBsc",
        "outputId": "1f815cd0-4966-42e6-bd78-98ef86283f2a"
      },
      "execution_count": 47,
      "outputs": [
        {
          "output_type": "stream",
          "name": "stdout",
          "text": [
            "143/143 - 0s - loss: 0.1115 - accuracy: 0.9768 - 461ms/epoch - 3ms/step\n"
          ]
        },
        {
          "output_type": "execute_result",
          "data": {
            "text/plain": [
              "[0.1114639937877655, 0.976815402507782]"
            ]
          },
          "metadata": {},
          "execution_count": 47
        }
      ]
    },
    {
      "cell_type": "markdown",
      "source": [
        ""
      ],
      "metadata": {
        "id": "zEyWp3DVIhku"
      }
    }
  ]
}