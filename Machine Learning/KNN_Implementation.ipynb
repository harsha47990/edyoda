{
 "cells": [
  {
   "cell_type": "code",
   "execution_count": 1,
   "id": "228ab4c2",
   "metadata": {},
   "outputs": [],
   "source": [
    "#loading data set\n",
    "from sklearn.datasets import load_iris\n",
    "iris = load_iris()\n"
   ]
  },
  {
   "cell_type": "code",
   "execution_count": 26,
   "id": "560e7061",
   "metadata": {},
   "outputs": [],
   "source": [
    "#manual seperation of test and train data\n",
    "import random as r\n",
    "train_percentage = 0.8\n",
    "samples = r.sample(range(0,len(iris.data)),k=int(train_percentage*len(iris.data)))\n",
    "X_Train = []\n",
    "Y_Train = []\n",
    "X_test = []\n",
    "Y_test = []\n",
    "TrainInd = 0\n",
    "TestInd = 0\n",
    "for i in range(len(iris.data)):\n",
    "    if i in samples:\n",
    "        X_Train.append(iris.data[i])\n",
    "        Y_Train.append(iris.target[i])\n",
    "   \n",
    "    else:\n",
    "        X_test.append(iris.data[i])\n",
    "        Y_test.append(iris.target[i])\n",
    "     \n",
    "    "
   ]
  },
  {
   "cell_type": "code",
   "execution_count": null,
   "id": "c16d634f",
   "metadata": {},
   "outputs": [],
   "source": []
  },
  {
   "cell_type": "code",
   "execution_count": 44,
   "id": "ab42e0ae",
   "metadata": {},
   "outputs": [
    {
     "data": {
      "text/plain": [
       "KNeighborsClassifier(n_neighbors=3)"
      ]
     },
     "execution_count": 44,
     "metadata": {},
     "output_type": "execute_result"
    }
   ],
   "source": [
    "#training KNN model\n",
    "from sklearn.neighbors import KNeighborsClassifier\n",
    "knn = KNeighborsClassifier(n_neighbors=3)\n",
    "knn.fit(X_Train,Y_Train)\n"
   ]
  },
  {
   "cell_type": "code",
   "execution_count": 45,
   "id": "0c5d7730",
   "metadata": {},
   "outputs": [],
   "source": [
    "#predicting output\n",
    "predicted_out = knn.predict(X_test)"
   ]
  },
  {
   "cell_type": "code",
   "execution_count": 46,
   "id": "238192f0",
   "metadata": {},
   "outputs": [
    {
     "data": {
      "text/plain": [
       "0.9"
      ]
     },
     "execution_count": 46,
     "metadata": {},
     "output_type": "execute_result"
    }
   ],
   "source": [
    "#hecking accuracy using metrics\n",
    "from sklearn import metrics\n",
    "metrics.accuracy_score(Y_test,predicted_out)"
   ]
  },
  {
   "cell_type": "code",
   "execution_count": 33,
   "id": "ad2beeea",
   "metadata": {},
   "outputs": [
    {
     "name": "stdout",
     "output_type": "stream",
     "text": [
      "real: 2 output: 1\n",
      "real: 2 output: 1\n",
      "real: 2 output: 1\n",
      "real: 2 output: 1\n"
     ]
    }
   ],
   "source": [
    "\n",
    "for i in range(len(predicted_out)):\n",
    "    if Y_test[i] != predicted_out[i]:\n",
    "        print('real:',Y_test[i],'output:',predicted_out[i])"
   ]
  },
  {
   "cell_type": "code",
   "execution_count": 40,
   "id": "df053f8a",
   "metadata": {},
   "outputs": [],
   "source": [
    "#finding K value for max accuracy\n",
    "Accdic = {}\n",
    "for i in range(1,int(len(X_Train)/3)):\n",
    "    knn = KNeighborsClassifier(n_neighbors=i)\n",
    "    knn.fit(X_Train,Y_Train)\n",
    "    predicted_out = knn.predict(X_test)\n",
    "    Accdic[i] = metrics.accuracy_score(Y_test,predicted_out)"
   ]
  },
  {
   "cell_type": "code",
   "execution_count": 51,
   "id": "0f967922",
   "metadata": {},
   "outputs": [
    {
     "data": {
      "text/plain": [
       "array([2])"
      ]
     },
     "execution_count": 51,
     "metadata": {},
     "output_type": "execute_result"
    }
   ],
   "source": [
    "knn.predict([[6.3, 2.5, 4.9, 1.5]])"
   ]
  },
  {
   "cell_type": "code",
   "execution_count": null,
   "id": "b2a63a54",
   "metadata": {},
   "outputs": [],
   "source": []
  }
 ],
 "metadata": {
  "kernelspec": {
   "display_name": "Python 3 (ipykernel)",
   "language": "python",
   "name": "python3"
  },
  "language_info": {
   "codemirror_mode": {
    "name": "ipython",
    "version": 3
   },
   "file_extension": ".py",
   "mimetype": "text/x-python",
   "name": "python",
   "nbconvert_exporter": "python",
   "pygments_lexer": "ipython3",
   "version": "3.10.0"
  }
 },
 "nbformat": 4,
 "nbformat_minor": 5
}
