{
 "cells": [
  {
   "cell_type": "code",
   "execution_count": 23,
   "id": "729a513b",
   "metadata": {},
   "outputs": [
    {
     "data": {
      "text/html": [
       "<div>\n",
       "<style scoped>\n",
       "    .dataframe tbody tr th:only-of-type {\n",
       "        vertical-align: middle;\n",
       "    }\n",
       "\n",
       "    .dataframe tbody tr th {\n",
       "        vertical-align: top;\n",
       "    }\n",
       "\n",
       "    .dataframe thead th {\n",
       "        text-align: right;\n",
       "    }\n",
       "</style>\n",
       "<table border=\"1\" class=\"dataframe\">\n",
       "  <thead>\n",
       "    <tr style=\"text-align: right;\">\n",
       "      <th></th>\n",
       "      <th>Sqft</th>\n",
       "      <th>Floor</th>\n",
       "      <th>TotalFloor</th>\n",
       "      <th>Bedroom</th>\n",
       "      <th>Living.Room</th>\n",
       "      <th>Bathroom</th>\n",
       "      <th>Price</th>\n",
       "    </tr>\n",
       "    <tr>\n",
       "      <th>index</th>\n",
       "      <th></th>\n",
       "      <th></th>\n",
       "      <th></th>\n",
       "      <th></th>\n",
       "      <th></th>\n",
       "      <th></th>\n",
       "      <th></th>\n",
       "    </tr>\n",
       "  </thead>\n",
       "  <tbody>\n",
       "    <tr>\n",
       "      <th>1</th>\n",
       "      <td>1177.698</td>\n",
       "      <td>2</td>\n",
       "      <td>7</td>\n",
       "      <td>2</td>\n",
       "      <td>2</td>\n",
       "      <td>2</td>\n",
       "      <td>62000</td>\n",
       "    </tr>\n",
       "    <tr>\n",
       "      <th>2</th>\n",
       "      <td>2134.800</td>\n",
       "      <td>5</td>\n",
       "      <td>7</td>\n",
       "      <td>4</td>\n",
       "      <td>2</td>\n",
       "      <td>2</td>\n",
       "      <td>78000</td>\n",
       "    </tr>\n",
       "    <tr>\n",
       "      <th>3</th>\n",
       "      <td>1138.560</td>\n",
       "      <td>5</td>\n",
       "      <td>7</td>\n",
       "      <td>2</td>\n",
       "      <td>2</td>\n",
       "      <td>1</td>\n",
       "      <td>58000</td>\n",
       "    </tr>\n",
       "    <tr>\n",
       "      <th>4</th>\n",
       "      <td>1458.780</td>\n",
       "      <td>2</td>\n",
       "      <td>7</td>\n",
       "      <td>3</td>\n",
       "      <td>2</td>\n",
       "      <td>2</td>\n",
       "      <td>45000</td>\n",
       "    </tr>\n",
       "    <tr>\n",
       "      <th>5</th>\n",
       "      <td>967.776</td>\n",
       "      <td>11</td>\n",
       "      <td>14</td>\n",
       "      <td>3</td>\n",
       "      <td>2</td>\n",
       "      <td>2</td>\n",
       "      <td>45000</td>\n",
       "    </tr>\n",
       "    <tr>\n",
       "      <th>...</th>\n",
       "      <td>...</td>\n",
       "      <td>...</td>\n",
       "      <td>...</td>\n",
       "      <td>...</td>\n",
       "      <td>...</td>\n",
       "      <td>...</td>\n",
       "      <td>...</td>\n",
       "    </tr>\n",
       "    <tr>\n",
       "      <th>644</th>\n",
       "      <td>1359.156</td>\n",
       "      <td>7</td>\n",
       "      <td>15</td>\n",
       "      <td>3</td>\n",
       "      <td>2</td>\n",
       "      <td>2</td>\n",
       "      <td>45000</td>\n",
       "    </tr>\n",
       "    <tr>\n",
       "      <th>645</th>\n",
       "      <td>377.148</td>\n",
       "      <td>4</td>\n",
       "      <td>10</td>\n",
       "      <td>1</td>\n",
       "      <td>1</td>\n",
       "      <td>1</td>\n",
       "      <td>24800</td>\n",
       "    </tr>\n",
       "    <tr>\n",
       "      <th>646</th>\n",
       "      <td>740.064</td>\n",
       "      <td>13</td>\n",
       "      <td>14</td>\n",
       "      <td>1</td>\n",
       "      <td>1</td>\n",
       "      <td>1</td>\n",
       "      <td>45000</td>\n",
       "    </tr>\n",
       "    <tr>\n",
       "      <th>647</th>\n",
       "      <td>1707.840</td>\n",
       "      <td>3</td>\n",
       "      <td>14</td>\n",
       "      <td>3</td>\n",
       "      <td>2</td>\n",
       "      <td>2</td>\n",
       "      <td>65000</td>\n",
       "    </tr>\n",
       "    <tr>\n",
       "      <th>648</th>\n",
       "      <td>1376.946</td>\n",
       "      <td>6</td>\n",
       "      <td>7</td>\n",
       "      <td>3</td>\n",
       "      <td>2</td>\n",
       "      <td>1</td>\n",
       "      <td>36000</td>\n",
       "    </tr>\n",
       "  </tbody>\n",
       "</table>\n",
       "<p>645 rows × 7 columns</p>\n",
       "</div>"
      ],
      "text/plain": [
       "           Sqft  Floor  TotalFloor  Bedroom  Living.Room  Bathroom  Price\n",
       "index                                                                    \n",
       "1      1177.698      2           7        2            2         2  62000\n",
       "2      2134.800      5           7        4            2         2  78000\n",
       "3      1138.560      5           7        2            2         1  58000\n",
       "4      1458.780      2           7        3            2         2  45000\n",
       "5       967.776     11          14        3            2         2  45000\n",
       "...         ...    ...         ...      ...          ...       ...    ...\n",
       "644    1359.156      7          15        3            2         2  45000\n",
       "645     377.148      4          10        1            1         1  24800\n",
       "646     740.064     13          14        1            1         1  45000\n",
       "647    1707.840      3          14        3            2         2  65000\n",
       "648    1376.946      6           7        3            2         1  36000\n",
       "\n",
       "[645 rows x 7 columns]"
      ]
     },
     "execution_count": 23,
     "metadata": {},
     "output_type": "execute_result"
    }
   ],
   "source": [
    "import pandas as pd\n",
    "df = pd.read_csv(r'C:\\Users\\52296881\\Downloads\\house_rental_data.csv',index_col=0)\n",
    "df"
   ]
  },
  {
   "cell_type": "code",
   "execution_count": 24,
   "id": "de1b79fd",
   "metadata": {},
   "outputs": [],
   "source": [
    "df = df.iloc[:,0:6]"
   ]
  },
  {
   "cell_type": "code",
   "execution_count": 26,
   "id": "35f0bbc9",
   "metadata": {
    "scrolled": true
   },
   "outputs": [
    {
     "data": {
      "text/html": [
       "<div>\n",
       "<style scoped>\n",
       "    .dataframe tbody tr th:only-of-type {\n",
       "        vertical-align: middle;\n",
       "    }\n",
       "\n",
       "    .dataframe tbody tr th {\n",
       "        vertical-align: top;\n",
       "    }\n",
       "\n",
       "    .dataframe thead th {\n",
       "        text-align: right;\n",
       "    }\n",
       "</style>\n",
       "<table border=\"1\" class=\"dataframe\">\n",
       "  <thead>\n",
       "    <tr style=\"text-align: right;\">\n",
       "      <th></th>\n",
       "      <th>Sqft</th>\n",
       "      <th>Floor</th>\n",
       "      <th>TotalFloor</th>\n",
       "      <th>Bedroom</th>\n",
       "      <th>Living.Room</th>\n",
       "      <th>Bathroom</th>\n",
       "    </tr>\n",
       "    <tr>\n",
       "      <th>index</th>\n",
       "      <th></th>\n",
       "      <th></th>\n",
       "      <th></th>\n",
       "      <th></th>\n",
       "      <th></th>\n",
       "      <th></th>\n",
       "    </tr>\n",
       "  </thead>\n",
       "  <tbody>\n",
       "    <tr>\n",
       "      <th>1</th>\n",
       "      <td>1177.698</td>\n",
       "      <td>2</td>\n",
       "      <td>7</td>\n",
       "      <td>2</td>\n",
       "      <td>2</td>\n",
       "      <td>2</td>\n",
       "    </tr>\n",
       "    <tr>\n",
       "      <th>2</th>\n",
       "      <td>2134.800</td>\n",
       "      <td>5</td>\n",
       "      <td>7</td>\n",
       "      <td>4</td>\n",
       "      <td>2</td>\n",
       "      <td>2</td>\n",
       "    </tr>\n",
       "    <tr>\n",
       "      <th>3</th>\n",
       "      <td>1138.560</td>\n",
       "      <td>5</td>\n",
       "      <td>7</td>\n",
       "      <td>2</td>\n",
       "      <td>2</td>\n",
       "      <td>1</td>\n",
       "    </tr>\n",
       "    <tr>\n",
       "      <th>4</th>\n",
       "      <td>1458.780</td>\n",
       "      <td>2</td>\n",
       "      <td>7</td>\n",
       "      <td>3</td>\n",
       "      <td>2</td>\n",
       "      <td>2</td>\n",
       "    </tr>\n",
       "    <tr>\n",
       "      <th>5</th>\n",
       "      <td>967.776</td>\n",
       "      <td>11</td>\n",
       "      <td>14</td>\n",
       "      <td>3</td>\n",
       "      <td>2</td>\n",
       "      <td>2</td>\n",
       "    </tr>\n",
       "    <tr>\n",
       "      <th>...</th>\n",
       "      <td>...</td>\n",
       "      <td>...</td>\n",
       "      <td>...</td>\n",
       "      <td>...</td>\n",
       "      <td>...</td>\n",
       "      <td>...</td>\n",
       "    </tr>\n",
       "    <tr>\n",
       "      <th>643</th>\n",
       "      <td>2846.400</td>\n",
       "      <td>5</td>\n",
       "      <td>12</td>\n",
       "      <td>4</td>\n",
       "      <td>2</td>\n",
       "      <td>2</td>\n",
       "    </tr>\n",
       "    <tr>\n",
       "      <th>644</th>\n",
       "      <td>1359.156</td>\n",
       "      <td>7</td>\n",
       "      <td>15</td>\n",
       "      <td>3</td>\n",
       "      <td>2</td>\n",
       "      <td>2</td>\n",
       "    </tr>\n",
       "    <tr>\n",
       "      <th>645</th>\n",
       "      <td>377.148</td>\n",
       "      <td>4</td>\n",
       "      <td>10</td>\n",
       "      <td>1</td>\n",
       "      <td>1</td>\n",
       "      <td>1</td>\n",
       "    </tr>\n",
       "    <tr>\n",
       "      <th>646</th>\n",
       "      <td>740.064</td>\n",
       "      <td>13</td>\n",
       "      <td>14</td>\n",
       "      <td>1</td>\n",
       "      <td>1</td>\n",
       "      <td>1</td>\n",
       "    </tr>\n",
       "    <tr>\n",
       "      <th>648</th>\n",
       "      <td>1376.946</td>\n",
       "      <td>6</td>\n",
       "      <td>7</td>\n",
       "      <td>3</td>\n",
       "      <td>2</td>\n",
       "      <td>1</td>\n",
       "    </tr>\n",
       "  </tbody>\n",
       "</table>\n",
       "<p>550 rows × 6 columns</p>\n",
       "</div>"
      ],
      "text/plain": [
       "           Sqft  Floor  TotalFloor  Bedroom  Living.Room  Bathroom\n",
       "index                                                             \n",
       "1      1177.698      2           7        2            2         2\n",
       "2      2134.800      5           7        4            2         2\n",
       "3      1138.560      5           7        2            2         1\n",
       "4      1458.780      2           7        3            2         2\n",
       "5       967.776     11          14        3            2         2\n",
       "...         ...    ...         ...      ...          ...       ...\n",
       "643    2846.400      5          12        4            2         2\n",
       "644    1359.156      7          15        3            2         2\n",
       "645     377.148      4          10        1            1         1\n",
       "646     740.064     13          14        1            1         1\n",
       "648    1376.946      6           7        3            2         1\n",
       "\n",
       "[550 rows x 6 columns]"
      ]
     },
     "execution_count": 26,
     "metadata": {},
     "output_type": "execute_result"
    }
   ],
   "source": [
    "df.drop_duplicates(inplace=True)\n",
    "df"
   ]
  },
  {
   "cell_type": "code",
   "execution_count": 29,
   "id": "e9785434",
   "metadata": {},
   "outputs": [],
   "source": [
    "from sklearn.cluster import KMeans\n",
    "kmeans = KMeans(n_clusters=5, init='k-means++',random_state=5)"
   ]
  },
  {
   "cell_type": "code",
   "execution_count": 30,
   "id": "a5b86b51",
   "metadata": {},
   "outputs": [],
   "source": [
    "wcss = []\n",
    "for i in range(1,21):\n",
    "    kmeans = KMeans(n_clusters=i, init='k-means++',random_state=5)\n",
    "    kmeans.fit(df)\n",
    "    wcss.append(kmeans.inertia_)\n",
    "\n",
    "    "
   ]
  },
  {
   "cell_type": "code",
   "execution_count": 31,
   "id": "cc46a8fa",
   "metadata": {
    "scrolled": true
   },
   "outputs": [
    {
     "data": {
      "text/plain": [
       "<AxesSubplot:>"
      ]
     },
     "execution_count": 31,
     "metadata": {},
     "output_type": "execute_result"
    },
    {
     "data": {
      "image/png": "[encoded data removed]",
      "text/plain": [
       "<Figure size 432x288 with 1 Axes>"
      ]
     },
     "metadata": {
      "needs_background": "light"
     },
     "output_type": "display_data"
    }
   ],
   "source": [
    "import seaborn as sns\n",
    "sns.lineplot(x= range(1,21),y = wcss)"
   ]
  },
  {
   "cell_type": "code",
   "execution_count": 32,
   "id": "250ef374",
   "metadata": {},
   "outputs": [
    {
     "name": "stdout",
     "output_type": "stream",
     "text": [
      "[0 2 0 0 3 0 0 3 0 0 3 3 0 3 2 4 3 3 4 0 2 3 0 4 2 4 3 3 2 0 0 3 3 3 3 4 3\n",
      " 4 3 0 0 2 0 0 2 2 0 3 3 1 2 3 0 3 0 3 3 0 0 3 3 0 3 3 0 3 0 2 3 3 2 2 0 0\n",
      " 3 0 3 3 3 0 0 4 2 2 2 2 0 2 2 2 2 2 2 2 2 4 4 4 2 4 3 2 2 3 2 2 0 0 4 3 3\n",
      " 3 3 0 2 2 4 0 2 0 3 0 0 4 0 0 2 4 0 4 0 0 0 0 3 2 1 0 2 2 2 2 3 3 0 3 2 0\n",
      " 0 3 3 1 0 2 2 2 0 0 2 2 4 2 0 0 0 2 3 4 0 0 0 0 0 2 3 3 2 2 2 2 3 3 0 0 0\n",
      " 0 3 0 2 3 3 0 0 0 3 2 0 2 0 2 3 2 0 4 3 2 3 3 2 2 0 0 2 3 0 3 2 3 0 4 2 2\n",
      " 0 4 3 2 0 4 2 2 3 3 4 0 3 3 0 0 3 3 0 0 0 2 3 0 0 0 2 0 3 3 2 0 0 2 0 4 2\n",
      " 3 2 0 3 2 0 2 0 4 4 4 4 2 2 2 0 0 0 0 0 2 0 0 4 2 2 2 3 2 3 2 0 4 3 2 4 2\n",
      " 0 0 3 0 3 3 2 0 0 3 3 0 3 3 0 3 4 2 3 2 2 2 2 0 2 0 3 3 3 3 3 3 3 0 0 0 2\n",
      " 2 2 2 0 0 2 3 0 0 0 0 0 0 2 0 0 0 2 0 3 3 0 0 3 3 3 3 0 3 2 3 3 3 2 2 2 4\n",
      " 3 0 0 2 3 4 4 3 3 0 0 3 2 0 4 2 2 0 2 0 3 3 0 3 0 0 0 0 0 2 3 4 2 0 0 0 0\n",
      " 0 3 2 2 2 3 0 0 3 3 0 0 0 4 0 3 2 3 2 0 0 4 0 2 3 0 2 2 3 3 3 3 2 0 3 3 0\n",
      " 3 3 2 0 0 0 3 4 3 3 2 2 2 2 0 3 0 2 0 3 0 0 0 0 0 0 2 0 2 2 2 3 0 3 3 0 0\n",
      " 0 3 2 2 2 3 3 0 3 1 0 3 3 3 0 1 0 0 0 0 4 3 3 3 2 3 0 0 3 3 0 2 3 0 0 2 3\n",
      " 2 3 3 0 3 3 0 0 3 2 0 2 3 3 1 4 4 2 0 0 0 0 0 3 2 0 2 4 0 3 3 0]\n"
     ]
    }
   ],
   "source": [
    "kmeans = KMeans(n_clusters=5, init='k-means++',random_state=5)\n",
    "kmeans.fit(df)\n",
    "print(kmeans.labels_)"
   ]
  },
  {
   "cell_type": "code",
   "execution_count": 36,
   "id": "31f0b2c2",
   "metadata": {},
   "outputs": [
    {
     "data": {
      "text/plain": [
       "array([[1.35245330e+03, 5.13636364e+00, 9.36868687e+00, 2.94949495e+00,\n",
       "        1.90909091e+00, 1.86868687e+00],\n",
       "       [4.92190000e+03, 6.16666667e+00, 1.90000000e+01, 4.50000000e+00,\n",
       "        2.50000000e+00, 3.83333333e+00],\n",
       "       [2.00012591e+03, 6.15602837e+00, 1.21843972e+01, 3.48936170e+00,\n",
       "        1.97872340e+00, 2.12056738e+00],\n",
       "       [7.37036385e+02, 6.18633540e+00, 1.00372671e+01, 1.81366460e+00,\n",
       "        1.42236025e+00, 1.14285714e+00],\n",
       "       [3.06368059e+03, 8.27272727e+00, 1.45681818e+01, 3.59090909e+00,\n",
       "        2.06818182e+00, 2.61363636e+00]])"
      ]
     },
     "execution_count": 36,
     "metadata": {},
     "output_type": "execute_result"
    }
   ],
   "source": [
    "kmeans.predict([[1138.560,5,7,2,2,1]])\n",
    "kmeans.cluster_centers_"
   ]
  },
  {
   "cell_type": "code",
   "execution_count": 37,
   "id": "cc85743a",
   "metadata": {},
   "outputs": [
    {
     "data": {
      "text/plain": [
       "array([0])"
      ]
     },
     "execution_count": 37,
     "metadata": {},
     "output_type": "execute_result"
    }
   ],
   "source": [
    "kmeans.predict([[1138.560,5,7,2,2,1]])"
   ]
  },
  {
   "cell_type": "code",
   "execution_count": null,
   "id": "f60dc2bf",
   "metadata": {},
   "outputs": [],
   "source": []
  }
 ],
 "metadata": {
  "kernelspec": {
   "display_name": "Python 3 (ipykernel)",
   "language": "python",
   "name": "python3"
  },
  "language_info": {
   "codemirror_mode": {
    "name": "ipython",
    "version": 3
   },
   "file_extension": ".py",
   "mimetype": "text/x-python",
   "name": "python",
   "nbconvert_exporter": "python",
   "pygments_lexer": "ipython3",
   "version": "3.10.0"
  }
 },
 "nbformat": 4,
 "nbformat_minor": 5
}
