{
  "nbformat": 4,
  "nbformat_minor": 0,
  "metadata": {
    "colab": {
      "name": "CNN fashion_mnist classification.ipynb",
      "provenance": [],
      "collapsed_sections": [],
      "authorship_tag": "ABX9TyPUD9TKkqU/BNyY7VD4vd6c"
    },
    "kernelspec": {
      "name": "python3",
      "display_name": "Python 3"
    },
    "language_info": {
      "name": "python"
    },
    "accelerator": "GPU",
    "gpuClass": "standard"
  },
  "cells": [
    {
      "cell_type": "code",
      "execution_count": 1,
      "metadata": {
        "colab": {
          "base_uri": "https://localhost:8080/"
        },
        "id": "UnON5YVbKSZO",
        "outputId": "0bad9b70-b368-4f9b-cd60-52a4698a1aee"
      },
      "outputs": [
        {
          "output_type": "stream",
          "name": "stdout",
          "text": [
            "Looking in indexes: https://pypi.org/simple, https://us-python.pkg.dev/colab-wheels/public/simple/\n",
            "Collecting keras-tuner\n",
            "  Downloading keras_tuner-1.1.3-py3-none-any.whl (135 kB)\n",
            "\u001b[K     |████████████████████████████████| 135 kB 5.3 MB/s \n",
            "\u001b[?25hRequirement already satisfied: requests in /usr/local/lib/python3.7/dist-packages (from keras-tuner) (2.23.0)\n",
            "Requirement already satisfied: packaging in /usr/local/lib/python3.7/dist-packages (from keras-tuner) (21.3)\n",
            "Requirement already satisfied: numpy in /usr/local/lib/python3.7/dist-packages (from keras-tuner) (1.21.6)\n",
            "Requirement already satisfied: ipython in /usr/local/lib/python3.7/dist-packages (from keras-tuner) (5.5.0)\n",
            "Requirement already satisfied: tensorboard in /usr/local/lib/python3.7/dist-packages (from keras-tuner) (2.8.0)\n",
            "Collecting kt-legacy\n",
            "  Downloading kt_legacy-1.0.4-py3-none-any.whl (9.6 kB)\n",
            "Requirement already satisfied: traitlets>=4.2 in /usr/local/lib/python3.7/dist-packages (from ipython->keras-tuner) (5.1.1)\n",
            "Requirement already satisfied: decorator in /usr/local/lib/python3.7/dist-packages (from ipython->keras-tuner) (4.4.2)\n",
            "Requirement already satisfied: pexpect in /usr/local/lib/python3.7/dist-packages (from ipython->keras-tuner) (4.8.0)\n",
            "Requirement already satisfied: setuptools>=18.5 in /usr/local/lib/python3.7/dist-packages (from ipython->keras-tuner) (57.4.0)\n",
            "Requirement already satisfied: pickleshare in /usr/local/lib/python3.7/dist-packages (from ipython->keras-tuner) (0.7.5)\n",
            "Requirement already satisfied: simplegeneric>0.8 in /usr/local/lib/python3.7/dist-packages (from ipython->keras-tuner) (0.8.1)\n",
            "Requirement already satisfied: prompt-toolkit<2.0.0,>=1.0.4 in /usr/local/lib/python3.7/dist-packages (from ipython->keras-tuner) (1.0.18)\n",
            "Requirement already satisfied: pygments in /usr/local/lib/python3.7/dist-packages (from ipython->keras-tuner) (2.6.1)\n",
            "Requirement already satisfied: six>=1.9.0 in /usr/local/lib/python3.7/dist-packages (from prompt-toolkit<2.0.0,>=1.0.4->ipython->keras-tuner) (1.15.0)\n",
            "Requirement already satisfied: wcwidth in /usr/local/lib/python3.7/dist-packages (from prompt-toolkit<2.0.0,>=1.0.4->ipython->keras-tuner) (0.2.5)\n",
            "Requirement already satisfied: pyparsing!=3.0.5,>=2.0.2 in /usr/local/lib/python3.7/dist-packages (from packaging->keras-tuner) (3.0.9)\n",
            "Requirement already satisfied: ptyprocess>=0.5 in /usr/local/lib/python3.7/dist-packages (from pexpect->ipython->keras-tuner) (0.7.0)\n",
            "Requirement already satisfied: idna<3,>=2.5 in /usr/local/lib/python3.7/dist-packages (from requests->keras-tuner) (2.10)\n",
            "Requirement already satisfied: chardet<4,>=3.0.2 in /usr/local/lib/python3.7/dist-packages (from requests->keras-tuner) (3.0.4)\n",
            "Requirement already satisfied: urllib3!=1.25.0,!=1.25.1,<1.26,>=1.21.1 in /usr/local/lib/python3.7/dist-packages (from requests->keras-tuner) (1.24.3)\n",
            "Requirement already satisfied: certifi>=2017.4.17 in /usr/local/lib/python3.7/dist-packages (from requests->keras-tuner) (2022.6.15)\n",
            "Requirement already satisfied: grpcio>=1.24.3 in /usr/local/lib/python3.7/dist-packages (from tensorboard->keras-tuner) (1.47.0)\n",
            "Requirement already satisfied: google-auth<3,>=1.6.3 in /usr/local/lib/python3.7/dist-packages (from tensorboard->keras-tuner) (1.35.0)\n",
            "Requirement already satisfied: werkzeug>=0.11.15 in /usr/local/lib/python3.7/dist-packages (from tensorboard->keras-tuner) (1.0.1)\n",
            "Requirement already satisfied: wheel>=0.26 in /usr/local/lib/python3.7/dist-packages (from tensorboard->keras-tuner) (0.37.1)\n",
            "Requirement already satisfied: tensorboard-plugin-wit>=1.6.0 in /usr/local/lib/python3.7/dist-packages (from tensorboard->keras-tuner) (1.8.1)\n",
            "Requirement already satisfied: tensorboard-data-server<0.7.0,>=0.6.0 in /usr/local/lib/python3.7/dist-packages (from tensorboard->keras-tuner) (0.6.1)\n",
            "Requirement already satisfied: markdown>=2.6.8 in /usr/local/lib/python3.7/dist-packages (from tensorboard->keras-tuner) (3.4.1)\n",
            "Requirement already satisfied: absl-py>=0.4 in /usr/local/lib/python3.7/dist-packages (from tensorboard->keras-tuner) (1.1.0)\n",
            "Requirement already satisfied: google-auth-oauthlib<0.5,>=0.4.1 in /usr/local/lib/python3.7/dist-packages (from tensorboard->keras-tuner) (0.4.6)\n",
            "Requirement already satisfied: protobuf>=3.6.0 in /usr/local/lib/python3.7/dist-packages (from tensorboard->keras-tuner) (3.17.3)\n",
            "Requirement already satisfied: rsa<5,>=3.1.4 in /usr/local/lib/python3.7/dist-packages (from google-auth<3,>=1.6.3->tensorboard->keras-tuner) (4.8)\n",
            "Requirement already satisfied: pyasn1-modules>=0.2.1 in /usr/local/lib/python3.7/dist-packages (from google-auth<3,>=1.6.3->tensorboard->keras-tuner) (0.2.8)\n",
            "Requirement already satisfied: cachetools<5.0,>=2.0.0 in /usr/local/lib/python3.7/dist-packages (from google-auth<3,>=1.6.3->tensorboard->keras-tuner) (4.2.4)\n",
            "Requirement already satisfied: requests-oauthlib>=0.7.0 in /usr/local/lib/python3.7/dist-packages (from google-auth-oauthlib<0.5,>=0.4.1->tensorboard->keras-tuner) (1.3.1)\n",
            "Requirement already satisfied: importlib-metadata>=4.4 in /usr/local/lib/python3.7/dist-packages (from markdown>=2.6.8->tensorboard->keras-tuner) (4.12.0)\n",
            "Requirement already satisfied: typing-extensions>=3.6.4 in /usr/local/lib/python3.7/dist-packages (from importlib-metadata>=4.4->markdown>=2.6.8->tensorboard->keras-tuner) (4.1.1)\n",
            "Requirement already satisfied: zipp>=0.5 in /usr/local/lib/python3.7/dist-packages (from importlib-metadata>=4.4->markdown>=2.6.8->tensorboard->keras-tuner) (3.8.1)\n",
            "Requirement already satisfied: pyasn1<0.5.0,>=0.4.6 in /usr/local/lib/python3.7/dist-packages (from pyasn1-modules>=0.2.1->google-auth<3,>=1.6.3->tensorboard->keras-tuner) (0.4.8)\n",
            "Requirement already satisfied: oauthlib>=3.0.0 in /usr/local/lib/python3.7/dist-packages (from requests-oauthlib>=0.7.0->google-auth-oauthlib<0.5,>=0.4.1->tensorboard->keras-tuner) (3.2.0)\n",
            "Installing collected packages: kt-legacy, keras-tuner\n",
            "Successfully installed keras-tuner-1.1.3 kt-legacy-1.0.4\n"
          ]
        }
      ],
      "source": [
        "!pip install keras-tuner"
      ]
    },
    {
      "cell_type": "code",
      "source": [
        "import tensorflow as tf\n",
        "from tensorflow import keras\n",
        "import numpy as np"
      ],
      "metadata": {
        "id": "7_7CNrj7Kaok"
      },
      "execution_count": 1,
      "outputs": []
    },
    {
      "cell_type": "code",
      "source": [
        "pip install keras-tuner --upgrade"
      ],
      "metadata": {
        "id": "SWuahLjqSQxD"
      },
      "execution_count": null,
      "outputs": []
    },
    {
      "cell_type": "code",
      "source": [
        "fashion_mnsit = keras.datasets.fashion_mnist"
      ],
      "metadata": {
        "id": "pT-46CmcKYEE"
      },
      "execution_count": 2,
      "outputs": []
    },
    {
      "cell_type": "code",
      "source": [
        "(train_images,train_labels),(test_images,test_labels) = fashion_mnsit.load_data() "
      ],
      "metadata": {
        "id": "kF1S250KK-dK"
      },
      "execution_count": 43,
      "outputs": []
    },
    {
      "cell_type": "code",
      "source": [
        "print(train_images.shape, train_labels.shape, test_images.shape, test_labels.shape)"
      ],
      "metadata": {
        "colab": {
          "base_uri": "https://localhost:8080/"
        },
        "id": "W659Hjj73EhB",
        "outputId": "c1951da9-0337-4386-85bd-4e1c439ecba1"
      },
      "execution_count": 44,
      "outputs": [
        {
          "output_type": "stream",
          "name": "stdout",
          "text": [
            "(60000, 28, 28) (60000,) (10000, 28, 28) (10000,)\n"
          ]
        }
      ]
    },
    {
      "cell_type": "code",
      "source": [
        "import matplotlib.pyplot as plt\n",
        "%matplotlib inline\n",
        "fig, axs = plt.subplots(1,4, figsize=(20, 10))\n",
        "for ax, i in zip(axs, range(6)):\n",
        "    ax.imshow(train_images[i])\n",
        "    ax.grid(True)\n",
        "\n",
        "plt.show()"
      ],
      "metadata": {
        "colab": {
          "base_uri": "https://localhost:8080/",
          "height": 291
        },
        "id": "tW8K0p_jENjm",
        "outputId": "8f77d863-b4ba-4ba5-b120-5cad2e208023"
      },
      "execution_count": 57,
      "outputs": [
        {
          "output_type": "display_data",
          "data": {
            "text/plain": [
              "<Figure size 1440x720 with 4 Axes>"
            ],
            "image/png": "[encoded data removed]"
          },
          "metadata": {
            "needs_background": "light"
          }
        }
      ]
    },
    {
      "cell_type": "code",
      "source": [
        "train_images = train_images/255.0\n",
        "test_images = test_images/255.0"
      ],
      "metadata": {
        "id": "ARRqDCe9K-hA"
      },
      "execution_count": 45,
      "outputs": []
    },
    {
      "cell_type": "code",
      "source": [
        "train_images[0].shape"
      ],
      "metadata": {
        "colab": {
          "base_uri": "https://localhost:8080/"
        },
        "id": "3M1k_-d8K-kT",
        "outputId": "94395a9e-687d-4d58-8728-b3b8c414dd25"
      },
      "execution_count": 46,
      "outputs": [
        {
          "output_type": "execute_result",
          "data": {
            "text/plain": [
              "(28, 28)"
            ]
          },
          "metadata": {},
          "execution_count": 46
        }
      ]
    },
    {
      "cell_type": "code",
      "source": [
        "train_images = train_images.reshape(len(train_images),28,28,1)\n",
        "test_images = test_images.reshape(len(test_images),28,28,1)"
      ],
      "metadata": {
        "id": "sgakeuAJK-my"
      },
      "execution_count": 7,
      "outputs": []
    },
    {
      "cell_type": "code",
      "source": [
        "train_images[0].shape"
      ],
      "metadata": {
        "colab": {
          "base_uri": "https://localhost:8080/"
        },
        "id": "B-qFSiKcMDtd",
        "outputId": "2302a7c3-01b0-4660-9322-d06fd11f1f55"
      },
      "execution_count": 9,
      "outputs": [
        {
          "output_type": "execute_result",
          "data": {
            "text/plain": [
              "(28, 28, 1)"
            ]
          },
          "metadata": {},
          "execution_count": 9
        }
      ]
    },
    {
      "cell_type": "code",
      "source": [
        "model = keras.Sequential([\n",
        "    keras.layers.Flatten(input_shape=(28, 28)), \n",
        "    keras.layers.Dense(256, \"relu\"), \n",
        "    keras.layers.Dense(10, activation=\"softmax\")\n",
        "])\n",
        "model.compile(optimizer=\"adam\", loss=\"sparse_categorical_crossentropy\", metrics=[\"accuracy\"])"
      ],
      "metadata": {
        "id": "BhrTuLWHztgh"
      },
      "execution_count": 47,
      "outputs": []
    },
    {
      "cell_type": "code",
      "source": [
        "model.fit(train_images, train_labels, shuffle=True, batch_size=500, epochs=100,validation_split=0.2)"
      ],
      "metadata": {
        "colab": {
          "base_uri": "https://localhost:8080/"
        },
        "id": "3zs4ZescztjJ",
        "outputId": "056598dd-c2ac-4e7b-8360-68c721ab7e66"
      },
      "execution_count": 48,
      "outputs": [
        {
          "output_type": "stream",
          "name": "stdout",
          "text": [
            "Epoch 1/100\n",
            "120/120 [==============================] - 1s 3ms/step - loss: 0.6397 - accuracy: 0.7855\n",
            "Epoch 2/100\n",
            "120/120 [==============================] - 0s 3ms/step - loss: 0.4355 - accuracy: 0.8492\n",
            "Epoch 3/100\n",
            "120/120 [==============================] - 0s 3ms/step - loss: 0.3942 - accuracy: 0.8628\n",
            "Epoch 4/100\n",
            "120/120 [==============================] - 0s 3ms/step - loss: 0.3646 - accuracy: 0.8724\n",
            "Epoch 5/100\n",
            "120/120 [==============================] - 0s 3ms/step - loss: 0.3456 - accuracy: 0.8778\n",
            "Epoch 6/100\n",
            "120/120 [==============================] - 0s 3ms/step - loss: 0.3304 - accuracy: 0.8821\n",
            "Epoch 7/100\n",
            "120/120 [==============================] - 0s 3ms/step - loss: 0.3189 - accuracy: 0.8861\n",
            "Epoch 8/100\n",
            "120/120 [==============================] - 0s 3ms/step - loss: 0.3044 - accuracy: 0.8917\n",
            "Epoch 9/100\n",
            "120/120 [==============================] - 0s 3ms/step - loss: 0.2961 - accuracy: 0.8931\n",
            "Epoch 10/100\n",
            "120/120 [==============================] - 0s 3ms/step - loss: 0.2869 - accuracy: 0.8968\n",
            "Epoch 11/100\n",
            "120/120 [==============================] - 0s 3ms/step - loss: 0.2817 - accuracy: 0.8989\n",
            "Epoch 12/100\n",
            "120/120 [==============================] - 0s 3ms/step - loss: 0.2713 - accuracy: 0.9028\n",
            "Epoch 13/100\n",
            "120/120 [==============================] - 0s 3ms/step - loss: 0.2620 - accuracy: 0.9056\n",
            "Epoch 14/100\n",
            "120/120 [==============================] - 0s 3ms/step - loss: 0.2552 - accuracy: 0.9083\n",
            "Epoch 15/100\n",
            "120/120 [==============================] - 0s 3ms/step - loss: 0.2486 - accuracy: 0.9102\n",
            "Epoch 16/100\n",
            "120/120 [==============================] - 0s 3ms/step - loss: 0.2453 - accuracy: 0.9111\n",
            "Epoch 17/100\n",
            "120/120 [==============================] - 0s 3ms/step - loss: 0.2368 - accuracy: 0.9138\n",
            "Epoch 18/100\n",
            "120/120 [==============================] - 0s 3ms/step - loss: 0.2322 - accuracy: 0.9152\n",
            "Epoch 19/100\n",
            "120/120 [==============================] - 0s 3ms/step - loss: 0.2287 - accuracy: 0.9165\n",
            "Epoch 20/100\n",
            "120/120 [==============================] - 0s 3ms/step - loss: 0.2218 - accuracy: 0.9194\n",
            "Epoch 21/100\n",
            "120/120 [==============================] - 0s 3ms/step - loss: 0.2164 - accuracy: 0.9224\n",
            "Epoch 22/100\n",
            "120/120 [==============================] - 0s 3ms/step - loss: 0.2108 - accuracy: 0.9230\n",
            "Epoch 23/100\n",
            "120/120 [==============================] - 0s 3ms/step - loss: 0.2110 - accuracy: 0.9227\n",
            "Epoch 24/100\n",
            "120/120 [==============================] - 0s 3ms/step - loss: 0.2035 - accuracy: 0.9263\n",
            "Epoch 25/100\n",
            "120/120 [==============================] - 0s 3ms/step - loss: 0.2000 - accuracy: 0.9275\n",
            "Epoch 26/100\n",
            "120/120 [==============================] - 0s 3ms/step - loss: 0.1938 - accuracy: 0.9303\n",
            "Epoch 27/100\n",
            "120/120 [==============================] - 0s 3ms/step - loss: 0.1884 - accuracy: 0.9326\n",
            "Epoch 28/100\n",
            "120/120 [==============================] - 0s 3ms/step - loss: 0.1901 - accuracy: 0.9320\n",
            "Epoch 29/100\n",
            "120/120 [==============================] - 0s 3ms/step - loss: 0.1841 - accuracy: 0.9345\n",
            "Epoch 30/100\n",
            "120/120 [==============================] - 0s 3ms/step - loss: 0.1815 - accuracy: 0.9349\n",
            "Epoch 31/100\n",
            "120/120 [==============================] - 0s 3ms/step - loss: 0.1768 - accuracy: 0.9356\n",
            "Epoch 32/100\n",
            "120/120 [==============================] - 0s 3ms/step - loss: 0.1759 - accuracy: 0.9367\n",
            "Epoch 33/100\n",
            "120/120 [==============================] - 0s 3ms/step - loss: 0.1713 - accuracy: 0.9386\n",
            "Epoch 34/100\n",
            "120/120 [==============================] - 0s 3ms/step - loss: 0.1661 - accuracy: 0.9412\n",
            "Epoch 35/100\n",
            "120/120 [==============================] - 0s 3ms/step - loss: 0.1635 - accuracy: 0.9419\n",
            "Epoch 36/100\n",
            "120/120 [==============================] - 0s 3ms/step - loss: 0.1630 - accuracy: 0.9425\n",
            "Epoch 37/100\n",
            "120/120 [==============================] - 0s 3ms/step - loss: 0.1581 - accuracy: 0.9437\n",
            "Epoch 38/100\n",
            "120/120 [==============================] - 0s 3ms/step - loss: 0.1541 - accuracy: 0.9452\n",
            "Epoch 39/100\n",
            "120/120 [==============================] - 0s 3ms/step - loss: 0.1470 - accuracy: 0.9488\n",
            "Epoch 40/100\n",
            "120/120 [==============================] - 0s 3ms/step - loss: 0.1475 - accuracy: 0.9482\n",
            "Epoch 41/100\n",
            "120/120 [==============================] - 0s 3ms/step - loss: 0.1450 - accuracy: 0.9487\n",
            "Epoch 42/100\n",
            "120/120 [==============================] - 0s 3ms/step - loss: 0.1436 - accuracy: 0.9493\n",
            "Epoch 43/100\n",
            "120/120 [==============================] - 0s 3ms/step - loss: 0.1434 - accuracy: 0.9483\n",
            "Epoch 44/100\n",
            "120/120 [==============================] - 0s 3ms/step - loss: 0.1359 - accuracy: 0.9520\n",
            "Epoch 45/100\n",
            "120/120 [==============================] - 0s 3ms/step - loss: 0.1369 - accuracy: 0.9517\n",
            "Epoch 46/100\n",
            "120/120 [==============================] - 0s 3ms/step - loss: 0.1319 - accuracy: 0.9537\n",
            "Epoch 47/100\n",
            "120/120 [==============================] - 0s 3ms/step - loss: 0.1272 - accuracy: 0.9552\n",
            "Epoch 48/100\n",
            "120/120 [==============================] - 0s 3ms/step - loss: 0.1261 - accuracy: 0.9552\n",
            "Epoch 49/100\n",
            "120/120 [==============================] - 0s 3ms/step - loss: 0.1281 - accuracy: 0.9544\n",
            "Epoch 50/100\n",
            "120/120 [==============================] - 0s 3ms/step - loss: 0.1238 - accuracy: 0.9563\n",
            "Epoch 51/100\n",
            "120/120 [==============================] - 0s 3ms/step - loss: 0.1175 - accuracy: 0.9588\n",
            "Epoch 52/100\n",
            "120/120 [==============================] - 0s 3ms/step - loss: 0.1176 - accuracy: 0.9594\n",
            "Epoch 53/100\n",
            "120/120 [==============================] - 0s 3ms/step - loss: 0.1111 - accuracy: 0.9618\n",
            "Epoch 54/100\n",
            "120/120 [==============================] - 0s 3ms/step - loss: 0.1152 - accuracy: 0.9595\n",
            "Epoch 55/100\n",
            "120/120 [==============================] - 0s 3ms/step - loss: 0.1111 - accuracy: 0.9615\n",
            "Epoch 56/100\n",
            "120/120 [==============================] - 0s 3ms/step - loss: 0.1114 - accuracy: 0.9605\n",
            "Epoch 57/100\n",
            "120/120 [==============================] - 0s 3ms/step - loss: 0.1079 - accuracy: 0.9629\n",
            "Epoch 58/100\n",
            "120/120 [==============================] - 0s 3ms/step - loss: 0.1067 - accuracy: 0.9636\n",
            "Epoch 59/100\n",
            "120/120 [==============================] - 0s 3ms/step - loss: 0.1039 - accuracy: 0.9642\n",
            "Epoch 60/100\n",
            "120/120 [==============================] - 0s 3ms/step - loss: 0.0995 - accuracy: 0.9659\n",
            "Epoch 61/100\n",
            "120/120 [==============================] - 0s 3ms/step - loss: 0.1023 - accuracy: 0.9644\n",
            "Epoch 62/100\n",
            "120/120 [==============================] - 0s 3ms/step - loss: 0.0933 - accuracy: 0.9693\n",
            "Epoch 63/100\n",
            "120/120 [==============================] - 0s 3ms/step - loss: 0.0927 - accuracy: 0.9691\n",
            "Epoch 64/100\n",
            "120/120 [==============================] - 0s 3ms/step - loss: 0.0932 - accuracy: 0.9678\n",
            "Epoch 65/100\n",
            "120/120 [==============================] - 0s 3ms/step - loss: 0.0913 - accuracy: 0.9692\n",
            "Epoch 66/100\n",
            "120/120 [==============================] - 0s 3ms/step - loss: 0.0884 - accuracy: 0.9702\n",
            "Epoch 67/100\n",
            "120/120 [==============================] - 0s 3ms/step - loss: 0.0923 - accuracy: 0.9681\n",
            "Epoch 68/100\n",
            "120/120 [==============================] - 0s 3ms/step - loss: 0.0850 - accuracy: 0.9708\n",
            "Epoch 69/100\n",
            "120/120 [==============================] - 0s 3ms/step - loss: 0.0840 - accuracy: 0.9725\n",
            "Epoch 70/100\n",
            "120/120 [==============================] - 0s 3ms/step - loss: 0.0875 - accuracy: 0.9697\n",
            "Epoch 71/100\n",
            "120/120 [==============================] - 0s 3ms/step - loss: 0.0816 - accuracy: 0.9721\n",
            "Epoch 72/100\n",
            "120/120 [==============================] - 0s 3ms/step - loss: 0.0805 - accuracy: 0.9735\n",
            "Epoch 73/100\n",
            "120/120 [==============================] - 0s 3ms/step - loss: 0.0821 - accuracy: 0.9717\n",
            "Epoch 74/100\n",
            "120/120 [==============================] - 0s 3ms/step - loss: 0.0770 - accuracy: 0.9735\n",
            "Epoch 75/100\n",
            "120/120 [==============================] - 0s 3ms/step - loss: 0.0728 - accuracy: 0.9765\n",
            "Epoch 76/100\n",
            "120/120 [==============================] - 0s 3ms/step - loss: 0.0726 - accuracy: 0.9763\n",
            "Epoch 77/100\n",
            "120/120 [==============================] - 0s 3ms/step - loss: 0.0752 - accuracy: 0.9748\n",
            "Epoch 78/100\n",
            "120/120 [==============================] - 0s 3ms/step - loss: 0.0698 - accuracy: 0.9770\n",
            "Epoch 79/100\n",
            "120/120 [==============================] - 0s 3ms/step - loss: 0.0757 - accuracy: 0.9737\n",
            "Epoch 80/100\n",
            "120/120 [==============================] - 0s 3ms/step - loss: 0.0696 - accuracy: 0.9772\n",
            "Epoch 81/100\n",
            "120/120 [==============================] - 0s 3ms/step - loss: 0.0690 - accuracy: 0.9776\n",
            "Epoch 82/100\n",
            "120/120 [==============================] - 0s 3ms/step - loss: 0.0664 - accuracy: 0.9780\n",
            "Epoch 83/100\n",
            "120/120 [==============================] - 0s 3ms/step - loss: 0.0663 - accuracy: 0.9781\n",
            "Epoch 84/100\n",
            "120/120 [==============================] - 0s 3ms/step - loss: 0.0636 - accuracy: 0.9791\n",
            "Epoch 85/100\n",
            "120/120 [==============================] - 0s 3ms/step - loss: 0.0676 - accuracy: 0.9765\n",
            "Epoch 86/100\n",
            "120/120 [==============================] - 0s 3ms/step - loss: 0.0627 - accuracy: 0.9796\n",
            "Epoch 87/100\n",
            "120/120 [==============================] - 0s 3ms/step - loss: 0.0610 - accuracy: 0.9794\n",
            "Epoch 88/100\n",
            "120/120 [==============================] - 0s 3ms/step - loss: 0.0550 - accuracy: 0.9828\n",
            "Epoch 89/100\n",
            "120/120 [==============================] - 0s 3ms/step - loss: 0.0626 - accuracy: 0.9796\n",
            "Epoch 90/100\n",
            "120/120 [==============================] - 0s 3ms/step - loss: 0.0552 - accuracy: 0.9829\n",
            "Epoch 91/100\n",
            "120/120 [==============================] - 0s 3ms/step - loss: 0.0617 - accuracy: 0.9793\n",
            "Epoch 92/100\n",
            "120/120 [==============================] - 0s 3ms/step - loss: 0.0589 - accuracy: 0.9804\n",
            "Epoch 93/100\n",
            "120/120 [==============================] - 0s 3ms/step - loss: 0.0544 - accuracy: 0.9820\n",
            "Epoch 94/100\n",
            "120/120 [==============================] - 0s 3ms/step - loss: 0.0532 - accuracy: 0.9825\n",
            "Epoch 95/100\n",
            "120/120 [==============================] - 0s 3ms/step - loss: 0.0509 - accuracy: 0.9835\n",
            "Epoch 96/100\n",
            "120/120 [==============================] - 0s 3ms/step - loss: 0.0506 - accuracy: 0.9837\n",
            "Epoch 97/100\n",
            "120/120 [==============================] - 0s 3ms/step - loss: 0.0504 - accuracy: 0.9839\n",
            "Epoch 98/100\n",
            "120/120 [==============================] - 0s 3ms/step - loss: 0.0468 - accuracy: 0.9851\n",
            "Epoch 99/100\n",
            "120/120 [==============================] - 0s 3ms/step - loss: 0.0487 - accuracy: 0.9843\n",
            "Epoch 100/100\n",
            "120/120 [==============================] - 0s 3ms/step - loss: 0.0519 - accuracy: 0.9831\n"
          ]
        },
        {
          "output_type": "execute_result",
          "data": {
            "text/plain": [
              "<keras.callbacks.History at 0x7f2d467724d0>"
            ]
          },
          "metadata": {},
          "execution_count": 48
        }
      ]
    },
    {
      "cell_type": "code",
      "source": [
        "model.fit(train_images, train_labels, shuffle=True, batch_size=500, epochs=100,validation_split=0.2)"
      ],
      "metadata": {
        "colab": {
          "base_uri": "https://localhost:8080/"
        },
        "id": "Vk8IUN24IlcE",
        "outputId": "7510dd82-e942-4b07-e7f3-9ec3eee2c61b"
      },
      "execution_count": 60,
      "outputs": [
        {
          "output_type": "stream",
          "name": "stdout",
          "text": [
            "Epoch 1/100\n",
            "96/96 [==============================] - 1s 8ms/step - loss: 0.0499 - accuracy: 0.9842 - val_loss: 0.0450 - val_accuracy: 0.9858\n",
            "Epoch 2/100\n",
            "96/96 [==============================] - 1s 6ms/step - loss: 0.0419 - accuracy: 0.9878 - val_loss: 0.0486 - val_accuracy: 0.9838\n",
            "Epoch 3/100\n",
            "96/96 [==============================] - 1s 6ms/step - loss: 0.0480 - accuracy: 0.9836 - val_loss: 0.0507 - val_accuracy: 0.9818\n",
            "Epoch 4/100\n",
            "96/96 [==============================] - 0s 5ms/step - loss: 0.0398 - accuracy: 0.9887 - val_loss: 0.0611 - val_accuracy: 0.9772\n",
            "Epoch 5/100\n",
            "96/96 [==============================] - 0s 4ms/step - loss: 0.0431 - accuracy: 0.9862 - val_loss: 0.0557 - val_accuracy: 0.9803\n",
            "Epoch 6/100\n",
            "96/96 [==============================] - 0s 4ms/step - loss: 0.0452 - accuracy: 0.9849 - val_loss: 0.0555 - val_accuracy: 0.9812\n",
            "Epoch 7/100\n",
            "96/96 [==============================] - 0s 4ms/step - loss: 0.0385 - accuracy: 0.9883 - val_loss: 0.0681 - val_accuracy: 0.9761\n",
            "Epoch 8/100\n",
            "96/96 [==============================] - 0s 4ms/step - loss: 0.0388 - accuracy: 0.9883 - val_loss: 0.0565 - val_accuracy: 0.9808\n",
            "Epoch 9/100\n",
            "96/96 [==============================] - 0s 4ms/step - loss: 0.0389 - accuracy: 0.9886 - val_loss: 0.0591 - val_accuracy: 0.9781\n",
            "Epoch 10/100\n",
            "96/96 [==============================] - 0s 4ms/step - loss: 0.0398 - accuracy: 0.9874 - val_loss: 0.0673 - val_accuracy: 0.9762\n",
            "Epoch 11/100\n",
            "96/96 [==============================] - 0s 4ms/step - loss: 0.0373 - accuracy: 0.9886 - val_loss: 0.0721 - val_accuracy: 0.9735\n",
            "Epoch 12/100\n",
            "96/96 [==============================] - 0s 4ms/step - loss: 0.0409 - accuracy: 0.9870 - val_loss: 0.0631 - val_accuracy: 0.9766\n",
            "Epoch 13/100\n",
            "96/96 [==============================] - 0s 4ms/step - loss: 0.0314 - accuracy: 0.9914 - val_loss: 0.0655 - val_accuracy: 0.9760\n",
            "Epoch 14/100\n",
            "96/96 [==============================] - 0s 4ms/step - loss: 0.0378 - accuracy: 0.9880 - val_loss: 0.0596 - val_accuracy: 0.9783\n",
            "Epoch 15/100\n",
            "96/96 [==============================] - 0s 4ms/step - loss: 0.0399 - accuracy: 0.9878 - val_loss: 0.0597 - val_accuracy: 0.9783\n",
            "Epoch 16/100\n",
            "96/96 [==============================] - 0s 4ms/step - loss: 0.0327 - accuracy: 0.9907 - val_loss: 0.0624 - val_accuracy: 0.9767\n",
            "Epoch 17/100\n",
            "96/96 [==============================] - 0s 4ms/step - loss: 0.0279 - accuracy: 0.9927 - val_loss: 0.0683 - val_accuracy: 0.9737\n",
            "Epoch 18/100\n",
            "96/96 [==============================] - 0s 4ms/step - loss: 0.0335 - accuracy: 0.9899 - val_loss: 0.0768 - val_accuracy: 0.9713\n",
            "Epoch 19/100\n",
            "96/96 [==============================] - 0s 4ms/step - loss: 0.0308 - accuracy: 0.9916 - val_loss: 0.0752 - val_accuracy: 0.9704\n",
            "Epoch 20/100\n",
            "96/96 [==============================] - 0s 4ms/step - loss: 0.0370 - accuracy: 0.9892 - val_loss: 0.0780 - val_accuracy: 0.9703\n",
            "Epoch 21/100\n",
            "96/96 [==============================] - 0s 4ms/step - loss: 0.0328 - accuracy: 0.9904 - val_loss: 0.0721 - val_accuracy: 0.9722\n",
            "Epoch 22/100\n",
            "96/96 [==============================] - 0s 4ms/step - loss: 0.0275 - accuracy: 0.9926 - val_loss: 0.0734 - val_accuracy: 0.9712\n",
            "Epoch 23/100\n",
            "96/96 [==============================] - 0s 5ms/step - loss: 0.0255 - accuracy: 0.9933 - val_loss: 0.0679 - val_accuracy: 0.9737\n",
            "Epoch 24/100\n",
            "96/96 [==============================] - 0s 4ms/step - loss: 0.0302 - accuracy: 0.9910 - val_loss: 0.0729 - val_accuracy: 0.9723\n",
            "Epoch 25/100\n",
            "96/96 [==============================] - 0s 4ms/step - loss: 0.0307 - accuracy: 0.9908 - val_loss: 0.0783 - val_accuracy: 0.9695\n",
            "Epoch 26/100\n",
            "96/96 [==============================] - 0s 4ms/step - loss: 0.0254 - accuracy: 0.9934 - val_loss: 0.0740 - val_accuracy: 0.9730\n",
            "Epoch 27/100\n",
            "96/96 [==============================] - 0s 4ms/step - loss: 0.0259 - accuracy: 0.9929 - val_loss: 0.0705 - val_accuracy: 0.9728\n",
            "Epoch 28/100\n",
            "96/96 [==============================] - 0s 4ms/step - loss: 0.0258 - accuracy: 0.9928 - val_loss: 0.0761 - val_accuracy: 0.9712\n",
            "Epoch 29/100\n",
            "96/96 [==============================] - 0s 4ms/step - loss: 0.0240 - accuracy: 0.9937 - val_loss: 0.0782 - val_accuracy: 0.9722\n",
            "Epoch 30/100\n",
            "96/96 [==============================] - 0s 4ms/step - loss: 0.0278 - accuracy: 0.9919 - val_loss: 0.0816 - val_accuracy: 0.9714\n",
            "Epoch 31/100\n",
            "96/96 [==============================] - 0s 4ms/step - loss: 0.0285 - accuracy: 0.9914 - val_loss: 0.0947 - val_accuracy: 0.9657\n",
            "Epoch 32/100\n",
            "96/96 [==============================] - 0s 4ms/step - loss: 0.0310 - accuracy: 0.9906 - val_loss: 0.0861 - val_accuracy: 0.9672\n",
            "Epoch 33/100\n",
            "96/96 [==============================] - 0s 4ms/step - loss: 0.0270 - accuracy: 0.9922 - val_loss: 0.0790 - val_accuracy: 0.9703\n",
            "Epoch 34/100\n",
            "96/96 [==============================] - 0s 4ms/step - loss: 0.0221 - accuracy: 0.9942 - val_loss: 0.0865 - val_accuracy: 0.9688\n",
            "Epoch 35/100\n",
            "96/96 [==============================] - 0s 4ms/step - loss: 0.0244 - accuracy: 0.9932 - val_loss: 0.0816 - val_accuracy: 0.9702\n",
            "Epoch 36/100\n",
            "96/96 [==============================] - 0s 4ms/step - loss: 0.0238 - accuracy: 0.9934 - val_loss: 0.0812 - val_accuracy: 0.9694\n",
            "Epoch 37/100\n",
            "96/96 [==============================] - 0s 4ms/step - loss: 0.0192 - accuracy: 0.9954 - val_loss: 0.0828 - val_accuracy: 0.9701\n",
            "Epoch 38/100\n",
            "96/96 [==============================] - 0s 4ms/step - loss: 0.0250 - accuracy: 0.9931 - val_loss: 0.0851 - val_accuracy: 0.9696\n",
            "Epoch 39/100\n",
            "96/96 [==============================] - 0s 4ms/step - loss: 0.0299 - accuracy: 0.9904 - val_loss: 0.0907 - val_accuracy: 0.9666\n",
            "Epoch 40/100\n",
            "96/96 [==============================] - 0s 4ms/step - loss: 0.0198 - accuracy: 0.9947 - val_loss: 0.1045 - val_accuracy: 0.9641\n",
            "Epoch 41/100\n",
            "96/96 [==============================] - 0s 4ms/step - loss: 0.0186 - accuracy: 0.9953 - val_loss: 0.0852 - val_accuracy: 0.9689\n",
            "Epoch 42/100\n",
            "96/96 [==============================] - 0s 4ms/step - loss: 0.0163 - accuracy: 0.9965 - val_loss: 0.0820 - val_accuracy: 0.9689\n",
            "Epoch 43/100\n",
            "96/96 [==============================] - 1s 6ms/step - loss: 0.0173 - accuracy: 0.9961 - val_loss: 0.0864 - val_accuracy: 0.9676\n",
            "Epoch 44/100\n",
            "96/96 [==============================] - 0s 4ms/step - loss: 0.0153 - accuracy: 0.9967 - val_loss: 0.0869 - val_accuracy: 0.9680\n",
            "Epoch 45/100\n",
            "96/96 [==============================] - 0s 5ms/step - loss: 0.0162 - accuracy: 0.9963 - val_loss: 0.0882 - val_accuracy: 0.9674\n",
            "Epoch 46/100\n",
            "96/96 [==============================] - 0s 4ms/step - loss: 0.0160 - accuracy: 0.9964 - val_loss: 0.0928 - val_accuracy: 0.9646\n",
            "Epoch 47/100\n",
            "96/96 [==============================] - 0s 5ms/step - loss: 0.0161 - accuracy: 0.9965 - val_loss: 0.1223 - val_accuracy: 0.9567\n",
            "Epoch 48/100\n",
            "96/96 [==============================] - 0s 4ms/step - loss: 0.0194 - accuracy: 0.9948 - val_loss: 0.1254 - val_accuracy: 0.9581\n",
            "Epoch 49/100\n",
            "96/96 [==============================] - 0s 4ms/step - loss: 0.0244 - accuracy: 0.9921 - val_loss: 0.1175 - val_accuracy: 0.9586\n",
            "Epoch 50/100\n",
            "96/96 [==============================] - 0s 4ms/step - loss: 0.0233 - accuracy: 0.9934 - val_loss: 0.1140 - val_accuracy: 0.9592\n",
            "Epoch 51/100\n",
            "96/96 [==============================] - 0s 4ms/step - loss: 0.0391 - accuracy: 0.9868 - val_loss: 0.1197 - val_accuracy: 0.9584\n",
            "Epoch 52/100\n",
            "96/96 [==============================] - 0s 4ms/step - loss: 0.0250 - accuracy: 0.9925 - val_loss: 0.1086 - val_accuracy: 0.9605\n",
            "Epoch 53/100\n",
            "96/96 [==============================] - 0s 4ms/step - loss: 0.0171 - accuracy: 0.9955 - val_loss: 0.1020 - val_accuracy: 0.9634\n",
            "Epoch 54/100\n",
            "96/96 [==============================] - 0s 4ms/step - loss: 0.0132 - accuracy: 0.9973 - val_loss: 0.1134 - val_accuracy: 0.9601\n",
            "Epoch 55/100\n",
            "96/96 [==============================] - 0s 4ms/step - loss: 0.0144 - accuracy: 0.9967 - val_loss: 0.1121 - val_accuracy: 0.9625\n",
            "Epoch 56/100\n",
            "96/96 [==============================] - 0s 4ms/step - loss: 0.0120 - accuracy: 0.9974 - val_loss: 0.0980 - val_accuracy: 0.9656\n",
            "Epoch 57/100\n",
            "96/96 [==============================] - 0s 4ms/step - loss: 0.0208 - accuracy: 0.9937 - val_loss: 0.1228 - val_accuracy: 0.9575\n",
            "Epoch 58/100\n",
            "96/96 [==============================] - 0s 4ms/step - loss: 0.0174 - accuracy: 0.9949 - val_loss: 0.1275 - val_accuracy: 0.9555\n",
            "Epoch 59/100\n",
            "96/96 [==============================] - 0s 4ms/step - loss: 0.0135 - accuracy: 0.9969 - val_loss: 0.1093 - val_accuracy: 0.9617\n",
            "Epoch 60/100\n",
            "96/96 [==============================] - 0s 4ms/step - loss: 0.0114 - accuracy: 0.9977 - val_loss: 0.1185 - val_accuracy: 0.9586\n",
            "Epoch 61/100\n",
            "96/96 [==============================] - 0s 4ms/step - loss: 0.0187 - accuracy: 0.9947 - val_loss: 0.1208 - val_accuracy: 0.9582\n",
            "Epoch 62/100\n",
            "96/96 [==============================] - 0s 4ms/step - loss: 0.0194 - accuracy: 0.9941 - val_loss: 0.1068 - val_accuracy: 0.9626\n",
            "Epoch 63/100\n",
            "96/96 [==============================] - 0s 4ms/step - loss: 0.0137 - accuracy: 0.9963 - val_loss: 0.1157 - val_accuracy: 0.9610\n",
            "Epoch 64/100\n",
            "96/96 [==============================] - 0s 4ms/step - loss: 0.0123 - accuracy: 0.9972 - val_loss: 0.1208 - val_accuracy: 0.9602\n",
            "Epoch 65/100\n",
            "96/96 [==============================] - 0s 4ms/step - loss: 0.0144 - accuracy: 0.9962 - val_loss: 0.1233 - val_accuracy: 0.9600\n",
            "Epoch 66/100\n",
            "96/96 [==============================] - 0s 4ms/step - loss: 0.0141 - accuracy: 0.9965 - val_loss: 0.1220 - val_accuracy: 0.9590\n",
            "Epoch 67/100\n",
            "96/96 [==============================] - 0s 4ms/step - loss: 0.0131 - accuracy: 0.9968 - val_loss: 0.1136 - val_accuracy: 0.9617\n",
            "Epoch 68/100\n",
            "96/96 [==============================] - 0s 4ms/step - loss: 0.0104 - accuracy: 0.9981 - val_loss: 0.1289 - val_accuracy: 0.9572\n",
            "Epoch 69/100\n",
            "96/96 [==============================] - 0s 4ms/step - loss: 0.0112 - accuracy: 0.9974 - val_loss: 0.1278 - val_accuracy: 0.9591\n",
            "Epoch 70/100\n",
            "96/96 [==============================] - 0s 4ms/step - loss: 0.0286 - accuracy: 0.9898 - val_loss: 0.1631 - val_accuracy: 0.9504\n",
            "Epoch 71/100\n",
            "96/96 [==============================] - 0s 4ms/step - loss: 0.0273 - accuracy: 0.9910 - val_loss: 0.1500 - val_accuracy: 0.9529\n",
            "Epoch 72/100\n",
            "96/96 [==============================] - 0s 4ms/step - loss: 0.0274 - accuracy: 0.9901 - val_loss: 0.1660 - val_accuracy: 0.9487\n",
            "Epoch 73/100\n",
            "96/96 [==============================] - 0s 4ms/step - loss: 0.0132 - accuracy: 0.9968 - val_loss: 0.1271 - val_accuracy: 0.9569\n",
            "Epoch 74/100\n",
            "96/96 [==============================] - 0s 4ms/step - loss: 0.0085 - accuracy: 0.9986 - val_loss: 0.1311 - val_accuracy: 0.9583\n",
            "Epoch 75/100\n",
            "96/96 [==============================] - 0s 4ms/step - loss: 0.0081 - accuracy: 0.9983 - val_loss: 0.1182 - val_accuracy: 0.9599\n",
            "Epoch 76/100\n",
            "96/96 [==============================] - 0s 4ms/step - loss: 0.0064 - accuracy: 0.9991 - val_loss: 0.1172 - val_accuracy: 0.9606\n",
            "Epoch 77/100\n",
            "96/96 [==============================] - 0s 4ms/step - loss: 0.0070 - accuracy: 0.9990 - val_loss: 0.1277 - val_accuracy: 0.9588\n",
            "Epoch 78/100\n",
            "96/96 [==============================] - 0s 4ms/step - loss: 0.0072 - accuracy: 0.9990 - val_loss: 0.1335 - val_accuracy: 0.9584\n",
            "Epoch 79/100\n",
            "96/96 [==============================] - 0s 4ms/step - loss: 0.0083 - accuracy: 0.9985 - val_loss: 0.1255 - val_accuracy: 0.9603\n",
            "Epoch 80/100\n",
            "96/96 [==============================] - 0s 4ms/step - loss: 0.0106 - accuracy: 0.9975 - val_loss: 0.1338 - val_accuracy: 0.9567\n",
            "Epoch 81/100\n",
            "96/96 [==============================] - 0s 4ms/step - loss: 0.0208 - accuracy: 0.9934 - val_loss: 0.1584 - val_accuracy: 0.9500\n",
            "Epoch 82/100\n",
            "96/96 [==============================] - 0s 4ms/step - loss: 0.0322 - accuracy: 0.9884 - val_loss: 0.1743 - val_accuracy: 0.9470\n",
            "Epoch 83/100\n",
            "96/96 [==============================] - 0s 4ms/step - loss: 0.0146 - accuracy: 0.9959 - val_loss: 0.1351 - val_accuracy: 0.9563\n",
            "Epoch 84/100\n",
            "96/96 [==============================] - 0s 4ms/step - loss: 0.0087 - accuracy: 0.9983 - val_loss: 0.1297 - val_accuracy: 0.9582\n",
            "Epoch 85/100\n",
            "96/96 [==============================] - 0s 4ms/step - loss: 0.0061 - accuracy: 0.9993 - val_loss: 0.1291 - val_accuracy: 0.9571\n",
            "Epoch 86/100\n",
            "96/96 [==============================] - 0s 4ms/step - loss: 0.0051 - accuracy: 0.9995 - val_loss: 0.1273 - val_accuracy: 0.9591\n",
            "Epoch 87/100\n",
            "96/96 [==============================] - 0s 4ms/step - loss: 0.0061 - accuracy: 0.9994 - val_loss: 0.1269 - val_accuracy: 0.9576\n",
            "Epoch 88/100\n",
            "96/96 [==============================] - 0s 5ms/step - loss: 0.0055 - accuracy: 0.9993 - val_loss: 0.1315 - val_accuracy: 0.9582\n",
            "Epoch 89/100\n",
            "96/96 [==============================] - 0s 4ms/step - loss: 0.0044 - accuracy: 0.9999 - val_loss: 0.1406 - val_accuracy: 0.9545\n",
            "Epoch 90/100\n",
            "96/96 [==============================] - 1s 5ms/step - loss: 0.0054 - accuracy: 0.9994 - val_loss: 0.1360 - val_accuracy: 0.9571\n",
            "Epoch 91/100\n",
            "96/96 [==============================] - 0s 4ms/step - loss: 0.0060 - accuracy: 0.9990 - val_loss: 0.1815 - val_accuracy: 0.9484\n",
            "Epoch 92/100\n",
            "96/96 [==============================] - 1s 5ms/step - loss: 0.0373 - accuracy: 0.9864 - val_loss: 0.1909 - val_accuracy: 0.9450\n",
            "Epoch 93/100\n",
            "96/96 [==============================] - 0s 4ms/step - loss: 0.0269 - accuracy: 0.9908 - val_loss: 0.2065 - val_accuracy: 0.9429\n",
            "Epoch 94/100\n",
            "96/96 [==============================] - 0s 4ms/step - loss: 0.0224 - accuracy: 0.9925 - val_loss: 0.1753 - val_accuracy: 0.9487\n",
            "Epoch 95/100\n",
            "96/96 [==============================] - 0s 4ms/step - loss: 0.0126 - accuracy: 0.9968 - val_loss: 0.1628 - val_accuracy: 0.9513\n",
            "Epoch 96/100\n",
            "96/96 [==============================] - 0s 4ms/step - loss: 0.0066 - accuracy: 0.9989 - val_loss: 0.1464 - val_accuracy: 0.9547\n",
            "Epoch 97/100\n",
            "96/96 [==============================] - 0s 4ms/step - loss: 0.0049 - accuracy: 0.9994 - val_loss: 0.1506 - val_accuracy: 0.9531\n",
            "Epoch 98/100\n",
            "96/96 [==============================] - 0s 4ms/step - loss: 0.0045 - accuracy: 0.9996 - val_loss: 0.1406 - val_accuracy: 0.9576\n",
            "Epoch 99/100\n",
            "96/96 [==============================] - 0s 4ms/step - loss: 0.0037 - accuracy: 0.9996 - val_loss: 0.1382 - val_accuracy: 0.9568\n",
            "Epoch 100/100\n",
            "96/96 [==============================] - 0s 4ms/step - loss: 0.0036 - accuracy: 0.9998 - val_loss: 0.1455 - val_accuracy: 0.9552\n"
          ]
        },
        {
          "output_type": "execute_result",
          "data": {
            "text/plain": [
              "<keras.callbacks.History at 0x7f2d4601f5d0>"
            ]
          },
          "metadata": {},
          "execution_count": 60
        }
      ]
    },
    {
      "cell_type": "code",
      "source": [
        "def build_model(hp):\n",
        "  model = keras.Sequential([\n",
        "          keras.layers.Conv2D(\n",
        "              filters = hp.Int('conv1_filter',min_value=32,max_value=128,step =16),\n",
        "              kernel_size=hp.Choice('conv1_kernal',values = [3,5]),\n",
        "              activation = 'relu',\n",
        "              input_shape=(28,28,1)\n",
        "          ),\n",
        "\n",
        "          keras.layers.Conv2D(\n",
        "              filters = hp.Int('conv2_filter',min_value =32,max_value = 64, step = 16),\n",
        "              kernel_size = hp.Choice('cov2_kernal',values=[3,5]),\n",
        "              activation= 'relu'\n",
        "          ),\n",
        "          keras.layers.Flatten(),\n",
        "          keras.layers.Dense(\n",
        "              units = hp.Int('dense1_units',min_value=32,max_value=128, step=16),\n",
        "              activation='relu'\n",
        "          ),\n",
        "          keras.layers.Dense(10,activation='softmax')\n",
        "  ])\n",
        "  model.compile(optimizer = keras.optimizers.Adam(hp.Choice('learning_rate',values=[2e-3,1e-3])),\n",
        "                loss='sparse_categorical_crossentropy',\n",
        "                metrics=['accuracy'])\n",
        "  return model"
      ],
      "metadata": {
        "id": "UzQ0nio0MD-5"
      },
      "execution_count": 50,
      "outputs": []
    },
    {
      "cell_type": "code",
      "source": [
        ""
      ],
      "metadata": {
        "id": "jqu9aYNCT8Ag"
      },
      "execution_count": null,
      "outputs": []
    },
    {
      "cell_type": "code",
      "source": [
        "import keras_tuner as kt"
      ],
      "metadata": {
        "id": "OK14HwApPta3"
      },
      "execution_count": 18,
      "outputs": []
    },
    {
      "cell_type": "code",
      "source": [
        "tuner_search = kt.RandomSearch(build_model,objective = 'val_accuracy',max_trials = 5,overwrite=True)"
      ],
      "metadata": {
        "id": "nLqv8BYDPth9"
      },
      "execution_count": 53,
      "outputs": []
    },
    {
      "cell_type": "code",
      "source": [
        "tuner_search.search(train_images, train_labels, epochs=5, validation_split=0.25)"
      ],
      "metadata": {
        "colab": {
          "base_uri": "https://localhost:8080/"
        },
        "id": "bJkFvOlFT9JE",
        "outputId": "d30bfd7e-669d-4534-e46d-40c997a25f39"
      },
      "execution_count": 54,
      "outputs": [
        {
          "output_type": "stream",
          "name": "stdout",
          "text": [
            "Trial 5 Complete [00h 00m 32s]\n",
            "val_accuracy: 0.9069333076477051\n",
            "\n",
            "Best val_accuracy So Far: 0.9107999801635742\n",
            "Total elapsed time: 00h 03m 21s\n",
            "INFO:tensorflow:Oracle triggered exit\n"
          ]
        },
        {
          "output_type": "stream",
          "name": "stderr",
          "text": [
            "INFO:tensorflow:Oracle triggered exit\n"
          ]
        }
      ]
    },
    {
      "cell_type": "code",
      "source": [
        "def build_model2(hp):\n",
        "  model = keras.Sequential([\n",
        "          keras.layers.Conv2D(\n",
        "              filters = hp.Int('conv1_filter',min_value=32,max_value=128,step =16),\n",
        "              kernel_size=hp.Choice('conv1_kernal',values = [3,5]),\n",
        "              activation = 'relu',\n",
        "              input_shape=(28,28)\n",
        "          ),\n",
        "          keras.layers.Flatten(),\n",
        "          keras.layers.Dense(\n",
        "              units = hp.Int('dense1_units',min_value=32,max_value=500, step=16),\n",
        "              activation='relu'\n",
        "          ),\n",
        "          keras.layers.Dense(10,activation='softmax')\n",
        "  ])\n",
        "  model.compile(optimizer = keras.optimizers.Adam(hp.Choice('learning_rate',values=[2e-3,1e-3])),\n",
        "                loss='sparse_categorical_crossentropy',\n",
        "                metrics=['accuracy'])\n",
        "  return model"
      ],
      "metadata": {
        "id": "PwBZuGj8Ptmc"
      },
      "execution_count": 58,
      "outputs": []
    },
    {
      "cell_type": "code",
      "source": [
        "tuner_search = kt.RandomSearch(build_model,objective = 'val_accuracy',max_trials = 5,overwrite=True)\n",
        "tuner_search.search(train_images, train_labels, epochs=5, validation_split=0.1)"
      ],
      "metadata": {
        "colab": {
          "base_uri": "https://localhost:8080/"
        },
        "id": "Tc0iImARPtpv",
        "outputId": "44bca02e-9f01-433d-c9cf-6e43d7c7f343"
      },
      "execution_count": 59,
      "outputs": [
        {
          "output_type": "stream",
          "name": "stdout",
          "text": [
            "Trial 5 Complete [00h 00m 42s]\n",
            "val_accuracy: 0.9089999794960022\n",
            "\n",
            "Best val_accuracy So Far: 0.9183333516120911\n",
            "Total elapsed time: 00h 03m 16s\n",
            "INFO:tensorflow:Oracle triggered exit\n"
          ]
        },
        {
          "output_type": "stream",
          "name": "stderr",
          "text": [
            "INFO:tensorflow:Oracle triggered exit\n"
          ]
        }
      ]
    },
    {
      "cell_type": "code",
      "source": [
        ""
      ],
      "metadata": {
        "id": "rAHPmB2bJASj"
      },
      "execution_count": null,
      "outputs": []
    },
    {
      "cell_type": "markdown",
      "source": [
        "### **Best accuracy: 0.9998 -Best val_accuracy: 0.9552**"
      ],
      "metadata": {
        "id": "QmhvIW3EJA-K"
      }
    }
  ]
}
