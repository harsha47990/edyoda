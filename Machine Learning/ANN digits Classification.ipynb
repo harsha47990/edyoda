{
 "cells": [
  {
   "cell_type": "code",
   "execution_count": 2,
   "id": "b3678408",
   "metadata": {},
   "outputs": [],
   "source": [
    "from sklearn.datasets import load_digits "
   ]
  },
  {
   "cell_type": "code",
   "execution_count": 3,
   "id": "7cd300fb",
   "metadata": {},
   "outputs": [],
   "source": [
    "digits = load_digits()"
   ]
  },
  {
   "cell_type": "code",
   "execution_count": 5,
   "id": "9e702a57",
   "metadata": {},
   "outputs": [
    {
     "data": {
      "text/plain": [
       "(array([[ 0.,  0.,  5., ...,  0.,  0.,  0.],\n",
       "        [ 0.,  0.,  0., ..., 10.,  0.,  0.],\n",
       "        [ 0.,  0.,  0., ..., 16.,  9.,  0.],\n",
       "        ...,\n",
       "        [ 0.,  0.,  1., ...,  6.,  0.,  0.],\n",
       "        [ 0.,  0.,  2., ..., 12.,  0.,  0.],\n",
       "        [ 0.,  0., 10., ..., 12.,  1.,  0.]]),\n",
       " array([0, 1, 2, ..., 8, 9, 8]))"
      ]
     },
     "execution_count": 5,
     "metadata": {},
     "output_type": "execute_result"
    }
   ],
   "source": [
    "digits.data,digits.target"
   ]
  },
  {
   "cell_type": "code",
   "execution_count": 6,
   "id": "a6ab378b",
   "metadata": {},
   "outputs": [],
   "source": [
    "import tensorflow as tf "
   ]
  },
  {
   "cell_type": "code",
   "execution_count": 8,
   "id": "1c6ad3b7",
   "metadata": {},
   "outputs": [],
   "source": [
    "from tensorflow.keras.models import Sequential"
   ]
  },
  {
   "cell_type": "code",
   "execution_count": 10,
   "id": "f56d1376",
   "metadata": {},
   "outputs": [],
   "source": [
    "from tensorflow.keras.layers import Dense"
   ]
  },
  {
   "cell_type": "code",
   "execution_count": 11,
   "id": "41fcfab0",
   "metadata": {},
   "outputs": [],
   "source": [
    "classifier = Sequential()"
   ]
  },
  {
   "cell_type": "code",
   "execution_count": 12,
   "id": "983791a5",
   "metadata": {},
   "outputs": [
    {
     "data": {
      "text/plain": [
       "64"
      ]
     },
     "execution_count": 12,
     "metadata": {},
     "output_type": "execute_result"
    }
   ],
   "source": [
    "X = digits.data\n",
    "Y = digits.target\n",
    "len(X[0])"
   ]
  },
  {
   "cell_type": "code",
   "execution_count": 13,
   "id": "4c343b16",
   "metadata": {},
   "outputs": [],
   "source": [
    "from sklearn.model_selection import train_test_split"
   ]
  },
  {
   "cell_type": "code",
   "execution_count": 14,
   "id": "bc4d6371",
   "metadata": {},
   "outputs": [],
   "source": [
    "X_train,X_test,Y_train,Y_test = train_test_split(X,Y,test_size=0.25)"
   ]
  },
  {
   "cell_type": "code",
   "execution_count": 21,
   "id": "464e3df9",
   "metadata": {},
   "outputs": [],
   "source": [
    "classifier.add(Dense(units=16,activation='relu',kernel_initializer='he_uniform',input_dim = X_train.shape[1]))\n",
    "classifier.add(Dense(units=16,activation='relu',kernel_initializer='he_uniform'))\n",
    "classifier.add(Dense(units=10,activation='softmax',kernel_initializer='he_uniform'))"
   ]
  },
  {
   "cell_type": "code",
   "execution_count": 56,
   "id": "371ff7c5",
   "metadata": {},
   "outputs": [],
   "source": [
    "classifier.compile(optimizer='adam',loss='categorical_crossentropy',metrics=['accuracy'])"
   ]
  },
  {
   "cell_type": "code",
   "execution_count": 37,
   "id": "001cf86d",
   "metadata": {},
   "outputs": [],
   "source": [
    "from sklearn.preprocessing import OneHotEncoder\n",
    "import numpy as np\n",
    "import pandas as pd"
   ]
  },
  {
   "cell_type": "code",
   "execution_count": 72,
   "id": "7b57fd39",
   "metadata": {},
   "outputs": [
    {
     "data": {
      "text/plain": [
       "array([[3],\n",
       "       [9],\n",
       "       [0],\n",
       "       ...,\n",
       "       [0],\n",
       "       [4],\n",
       "       [5]])"
      ]
     },
     "execution_count": 72,
     "metadata": {},
     "output_type": "execute_result"
    }
   ],
   "source": [
    "Y_train.reshape(-1,1)"
   ]
  },
  {
   "cell_type": "code",
   "execution_count": 74,
   "id": "774a5853",
   "metadata": {},
   "outputs": [
    {
     "name": "stdout",
     "output_type": "stream",
     "text": [
      "[[0. 0. 0. ... 0. 0. 0.]\n",
      " [0. 0. 0. ... 0. 0. 1.]\n",
      " [1. 0. 0. ... 0. 0. 0.]\n",
      " ...\n",
      " [1. 0. 0. ... 0. 0. 0.]\n",
      " [0. 0. 0. ... 0. 0. 0.]\n",
      " [0. 0. 0. ... 0. 0. 0.]]\n"
     ]
    },
    {
     "data": {
      "text/html": [
       "<div>\n",
       "<style scoped>\n",
       "    .dataframe tbody tr th:only-of-type {\n",
       "        vertical-align: middle;\n",
       "    }\n",
       "\n",
       "    .dataframe tbody tr th {\n",
       "        vertical-align: top;\n",
       "    }\n",
       "\n",
       "    .dataframe thead th {\n",
       "        text-align: right;\n",
       "    }\n",
       "</style>\n",
       "<table border=\"1\" class=\"dataframe\">\n",
       "  <thead>\n",
       "    <tr style=\"text-align: right;\">\n",
       "      <th></th>\n",
       "      <th>0</th>\n",
       "      <th>1</th>\n",
       "      <th>2</th>\n",
       "      <th>3</th>\n",
       "      <th>4</th>\n",
       "      <th>5</th>\n",
       "      <th>6</th>\n",
       "      <th>7</th>\n",
       "      <th>8</th>\n",
       "      <th>9</th>\n",
       "    </tr>\n",
       "  </thead>\n",
       "  <tbody>\n",
       "    <tr>\n",
       "      <th>0</th>\n",
       "      <td>0.0</td>\n",
       "      <td>0.0</td>\n",
       "      <td>0.0</td>\n",
       "      <td>1.0</td>\n",
       "      <td>0.0</td>\n",
       "      <td>0.0</td>\n",
       "      <td>0.0</td>\n",
       "      <td>0.0</td>\n",
       "      <td>0.0</td>\n",
       "      <td>0.0</td>\n",
       "    </tr>\n",
       "    <tr>\n",
       "      <th>1</th>\n",
       "      <td>0.0</td>\n",
       "      <td>0.0</td>\n",
       "      <td>0.0</td>\n",
       "      <td>0.0</td>\n",
       "      <td>0.0</td>\n",
       "      <td>0.0</td>\n",
       "      <td>0.0</td>\n",
       "      <td>0.0</td>\n",
       "      <td>0.0</td>\n",
       "      <td>1.0</td>\n",
       "    </tr>\n",
       "    <tr>\n",
       "      <th>2</th>\n",
       "      <td>1.0</td>\n",
       "      <td>0.0</td>\n",
       "      <td>0.0</td>\n",
       "      <td>0.0</td>\n",
       "      <td>0.0</td>\n",
       "      <td>0.0</td>\n",
       "      <td>0.0</td>\n",
       "      <td>0.0</td>\n",
       "      <td>0.0</td>\n",
       "      <td>0.0</td>\n",
       "    </tr>\n",
       "    <tr>\n",
       "      <th>3</th>\n",
       "      <td>0.0</td>\n",
       "      <td>0.0</td>\n",
       "      <td>0.0</td>\n",
       "      <td>0.0</td>\n",
       "      <td>0.0</td>\n",
       "      <td>0.0</td>\n",
       "      <td>0.0</td>\n",
       "      <td>0.0</td>\n",
       "      <td>1.0</td>\n",
       "      <td>0.0</td>\n",
       "    </tr>\n",
       "    <tr>\n",
       "      <th>4</th>\n",
       "      <td>0.0</td>\n",
       "      <td>0.0</td>\n",
       "      <td>0.0</td>\n",
       "      <td>0.0</td>\n",
       "      <td>0.0</td>\n",
       "      <td>1.0</td>\n",
       "      <td>0.0</td>\n",
       "      <td>0.0</td>\n",
       "      <td>0.0</td>\n",
       "      <td>0.0</td>\n",
       "    </tr>\n",
       "    <tr>\n",
       "      <th>...</th>\n",
       "      <td>...</td>\n",
       "      <td>...</td>\n",
       "      <td>...</td>\n",
       "      <td>...</td>\n",
       "      <td>...</td>\n",
       "      <td>...</td>\n",
       "      <td>...</td>\n",
       "      <td>...</td>\n",
       "      <td>...</td>\n",
       "      <td>...</td>\n",
       "    </tr>\n",
       "    <tr>\n",
       "      <th>1342</th>\n",
       "      <td>0.0</td>\n",
       "      <td>0.0</td>\n",
       "      <td>0.0</td>\n",
       "      <td>0.0</td>\n",
       "      <td>1.0</td>\n",
       "      <td>0.0</td>\n",
       "      <td>0.0</td>\n",
       "      <td>0.0</td>\n",
       "      <td>0.0</td>\n",
       "      <td>0.0</td>\n",
       "    </tr>\n",
       "    <tr>\n",
       "      <th>1343</th>\n",
       "      <td>1.0</td>\n",
       "      <td>0.0</td>\n",
       "      <td>0.0</td>\n",
       "      <td>0.0</td>\n",
       "      <td>0.0</td>\n",
       "      <td>0.0</td>\n",
       "      <td>0.0</td>\n",
       "      <td>0.0</td>\n",
       "      <td>0.0</td>\n",
       "      <td>0.0</td>\n",
       "    </tr>\n",
       "    <tr>\n",
       "      <th>1344</th>\n",
       "      <td>1.0</td>\n",
       "      <td>0.0</td>\n",
       "      <td>0.0</td>\n",
       "      <td>0.0</td>\n",
       "      <td>0.0</td>\n",
       "      <td>0.0</td>\n",
       "      <td>0.0</td>\n",
       "      <td>0.0</td>\n",
       "      <td>0.0</td>\n",
       "      <td>0.0</td>\n",
       "    </tr>\n",
       "    <tr>\n",
       "      <th>1345</th>\n",
       "      <td>0.0</td>\n",
       "      <td>0.0</td>\n",
       "      <td>0.0</td>\n",
       "      <td>0.0</td>\n",
       "      <td>1.0</td>\n",
       "      <td>0.0</td>\n",
       "      <td>0.0</td>\n",
       "      <td>0.0</td>\n",
       "      <td>0.0</td>\n",
       "      <td>0.0</td>\n",
       "    </tr>\n",
       "    <tr>\n",
       "      <th>1346</th>\n",
       "      <td>0.0</td>\n",
       "      <td>0.0</td>\n",
       "      <td>0.0</td>\n",
       "      <td>0.0</td>\n",
       "      <td>0.0</td>\n",
       "      <td>1.0</td>\n",
       "      <td>0.0</td>\n",
       "      <td>0.0</td>\n",
       "      <td>0.0</td>\n",
       "      <td>0.0</td>\n",
       "    </tr>\n",
       "  </tbody>\n",
       "</table>\n",
       "<p>1347 rows × 10 columns</p>\n",
       "</div>"
      ],
      "text/plain": [
       "        0    1    2    3    4    5    6    7    8    9\n",
       "0     0.0  0.0  0.0  1.0  0.0  0.0  0.0  0.0  0.0  0.0\n",
       "1     0.0  0.0  0.0  0.0  0.0  0.0  0.0  0.0  0.0  1.0\n",
       "2     1.0  0.0  0.0  0.0  0.0  0.0  0.0  0.0  0.0  0.0\n",
       "3     0.0  0.0  0.0  0.0  0.0  0.0  0.0  0.0  1.0  0.0\n",
       "4     0.0  0.0  0.0  0.0  0.0  1.0  0.0  0.0  0.0  0.0\n",
       "...   ...  ...  ...  ...  ...  ...  ...  ...  ...  ...\n",
       "1342  0.0  0.0  0.0  0.0  1.0  0.0  0.0  0.0  0.0  0.0\n",
       "1343  1.0  0.0  0.0  0.0  0.0  0.0  0.0  0.0  0.0  0.0\n",
       "1344  1.0  0.0  0.0  0.0  0.0  0.0  0.0  0.0  0.0  0.0\n",
       "1345  0.0  0.0  0.0  0.0  1.0  0.0  0.0  0.0  0.0  0.0\n",
       "1346  0.0  0.0  0.0  0.0  0.0  1.0  0.0  0.0  0.0  0.0\n",
       "\n",
       "[1347 rows x 10 columns]"
      ]
     },
     "execution_count": 74,
     "metadata": {},
     "output_type": "execute_result"
    }
   ],
   "source": [
    "encoder = OneHotEncoder(categories = 'auto')\n",
    "X = encoder.fit_transform(Y_train.reshape(-1,1)).toarray()\n",
    "print(X)\n",
    "dfonehot = pd.DataFrame(X)\n",
    "dfonehot"
   ]
  },
  {
   "cell_type": "code",
   "execution_count": 76,
   "id": "9415ded6",
   "metadata": {},
   "outputs": [
    {
     "name": "stdout",
     "output_type": "stream",
     "text": [
      "Epoch 1/50\n",
      "91/91 [==============================] - 1s 7ms/step - loss: 0.1549 - accuracy: 0.8991 - val_loss: 0.5669 - val_accuracy: 0.8360\n",
      "Epoch 2/50\n",
      "91/91 [==============================] - 1s 8ms/step - loss: 0.1476 - accuracy: 0.8947 - val_loss: 0.5566 - val_accuracy: 0.8135\n",
      "Epoch 3/50\n",
      "91/91 [==============================] - 1s 6ms/step - loss: 0.1406 - accuracy: 0.9169 - val_loss: 0.5876 - val_accuracy: 0.8360\n",
      "Epoch 4/50\n",
      "91/91 [==============================] - 1s 10ms/step - loss: 0.1401 - accuracy: 0.9157 - val_loss: 0.5470 - val_accuracy: 0.8382\n",
      "Epoch 5/50\n",
      "91/91 [==============================] - 1s 7ms/step - loss: 0.1380 - accuracy: 0.9113 - val_loss: 0.5904 - val_accuracy: 0.8225\n",
      "Epoch 6/50\n",
      "91/91 [==============================] - 1s 6ms/step - loss: 0.1374 - accuracy: 0.9202 - val_loss: 0.5820 - val_accuracy: 0.8382\n",
      "Epoch 7/50\n",
      "91/91 [==============================] - 1s 6ms/step - loss: 0.1380 - accuracy: 0.9146 - val_loss: 0.6951 - val_accuracy: 0.8135\n",
      "Epoch 8/50\n",
      "91/91 [==============================] - 1s 6ms/step - loss: 0.1764 - accuracy: 0.9024 - val_loss: 0.5822 - val_accuracy: 0.8382\n",
      "Epoch 9/50\n",
      "91/91 [==============================] - 1s 7ms/step - loss: 0.1525 - accuracy: 0.9235 - val_loss: 0.5509 - val_accuracy: 0.8225\n",
      "Epoch 10/50\n",
      "91/91 [==============================] - 1s 6ms/step - loss: 0.2229 - accuracy: 0.8836 - val_loss: 0.6078 - val_accuracy: 0.8382\n",
      "Epoch 11/50\n",
      "91/91 [==============================] - 1s 6ms/step - loss: 0.1825 - accuracy: 0.8847 - val_loss: 0.7316 - val_accuracy: 0.8157\n",
      "Epoch 12/50\n",
      "91/91 [==============================] - 1s 6ms/step - loss: 0.1878 - accuracy: 0.8925 - val_loss: 0.5646 - val_accuracy: 0.8449\n",
      "Epoch 13/50\n",
      "91/91 [==============================] - 1s 6ms/step - loss: 0.1994 - accuracy: 0.8902 - val_loss: 0.6674 - val_accuracy: 0.8270\n",
      "Epoch 14/50\n",
      "91/91 [==============================] - 1s 6ms/step - loss: 0.1705 - accuracy: 0.8991 - val_loss: 0.5322 - val_accuracy: 0.8315\n",
      "Epoch 15/50\n",
      "91/91 [==============================] - 1s 6ms/step - loss: 0.1507 - accuracy: 0.9047 - val_loss: 0.5742 - val_accuracy: 0.8337\n",
      "Epoch 16/50\n",
      "91/91 [==============================] - 1s 6ms/step - loss: 0.1389 - accuracy: 0.9102 - val_loss: 0.5173 - val_accuracy: 0.8225\n",
      "Epoch 17/50\n",
      "91/91 [==============================] - 1s 6ms/step - loss: 0.1383 - accuracy: 0.9135 - val_loss: 0.6094 - val_accuracy: 0.8135\n",
      "Epoch 18/50\n",
      "91/91 [==============================] - 0s 5ms/step - loss: 0.1497 - accuracy: 0.9091 - val_loss: 0.6224 - val_accuracy: 0.8247\n",
      "Epoch 19/50\n",
      "91/91 [==============================] - 1s 6ms/step - loss: 0.1524 - accuracy: 0.9058 - val_loss: 0.6132 - val_accuracy: 0.8022\n",
      "Epoch 20/50\n",
      "91/91 [==============================] - 1s 6ms/step - loss: 0.2163 - accuracy: 0.9080 - val_loss: 0.6109 - val_accuracy: 0.8202\n",
      "Epoch 21/50\n",
      "91/91 [==============================] - 1s 6ms/step - loss: 0.1521 - accuracy: 0.9113 - val_loss: 0.5255 - val_accuracy: 0.8517\n",
      "Epoch 22/50\n",
      "91/91 [==============================] - 1s 7ms/step - loss: 0.1936 - accuracy: 0.9069 - val_loss: 0.5886 - val_accuracy: 0.8944\n",
      "Epoch 23/50\n",
      "91/91 [==============================] - 1s 6ms/step - loss: 0.1472 - accuracy: 0.9279 - val_loss: 0.5628 - val_accuracy: 0.8697\n",
      "Epoch 24/50\n",
      "91/91 [==============================] - 0s 5ms/step - loss: 0.0945 - accuracy: 0.9745 - val_loss: 0.5698 - val_accuracy: 0.8944\n",
      "Epoch 25/50\n",
      "91/91 [==============================] - 0s 5ms/step - loss: 0.0612 - accuracy: 0.9789 - val_loss: 0.4938 - val_accuracy: 0.9191\n",
      "Epoch 26/50\n",
      "91/91 [==============================] - 1s 6ms/step - loss: 0.0373 - accuracy: 0.9922 - val_loss: 0.5831 - val_accuracy: 0.9191\n",
      "Epoch 27/50\n",
      "91/91 [==============================] - 1s 6ms/step - loss: 0.0393 - accuracy: 0.9900 - val_loss: 0.6594 - val_accuracy: 0.9124\n",
      "Epoch 28/50\n",
      "91/91 [==============================] - 1s 6ms/step - loss: 0.0324 - accuracy: 0.9933 - val_loss: 0.5566 - val_accuracy: 0.9236\n",
      "Epoch 29/50\n",
      "91/91 [==============================] - 1s 6ms/step - loss: 0.0627 - accuracy: 0.9856 - val_loss: 0.9382 - val_accuracy: 0.8809\n",
      "Epoch 30/50\n",
      "91/91 [==============================] - 1s 6ms/step - loss: 0.1741 - accuracy: 0.9590 - val_loss: 0.6082 - val_accuracy: 0.9169\n",
      "Epoch 31/50\n",
      "91/91 [==============================] - 1s 6ms/step - loss: 0.0677 - accuracy: 0.9812 - val_loss: 0.4117 - val_accuracy: 0.9281\n",
      "Epoch 32/50\n",
      "91/91 [==============================] - 1s 7ms/step - loss: 0.0258 - accuracy: 0.9933 - val_loss: 0.5248 - val_accuracy: 0.9348\n",
      "Epoch 33/50\n",
      "91/91 [==============================] - 1s 7ms/step - loss: 0.0098 - accuracy: 0.9989 - val_loss: 0.5328 - val_accuracy: 0.9393\n",
      "Epoch 34/50\n",
      "91/91 [==============================] - 0s 5ms/step - loss: 0.0115 - accuracy: 0.9978 - val_loss: 0.7260 - val_accuracy: 0.9169\n",
      "Epoch 35/50\n",
      "91/91 [==============================] - 1s 9ms/step - loss: 0.1872 - accuracy: 0.9568 - val_loss: 0.6041 - val_accuracy: 0.9191\n",
      "Epoch 36/50\n",
      "91/91 [==============================] - 1s 7ms/step - loss: 0.1120 - accuracy: 0.9756 - val_loss: 0.5476 - val_accuracy: 0.9191\n",
      "Epoch 37/50\n",
      "91/91 [==============================] - 1s 8ms/step - loss: 0.0593 - accuracy: 0.9823 - val_loss: 0.7335 - val_accuracy: 0.9079\n",
      "Epoch 38/50\n",
      "91/91 [==============================] - 1s 9ms/step - loss: 0.0781 - accuracy: 0.9778 - val_loss: 0.6298 - val_accuracy: 0.9169\n",
      "Epoch 39/50\n",
      "91/91 [==============================] - 1s 6ms/step - loss: 0.0327 - accuracy: 0.9933 - val_loss: 0.4930 - val_accuracy: 0.9348\n",
      "Epoch 40/50\n",
      "91/91 [==============================] - 1s 9ms/step - loss: 0.0328 - accuracy: 0.9911 - val_loss: 0.5984 - val_accuracy: 0.9169\n",
      "Epoch 41/50\n",
      "91/91 [==============================] - 1s 8ms/step - loss: 0.0254 - accuracy: 0.9922 - val_loss: 0.5413 - val_accuracy: 0.9258\n",
      "Epoch 42/50\n",
      "91/91 [==============================] - 1s 7ms/step - loss: 0.0124 - accuracy: 0.9945 - val_loss: 0.4984 - val_accuracy: 0.9258\n",
      "Epoch 43/50\n",
      "91/91 [==============================] - 1s 9ms/step - loss: 0.0025 - accuracy: 1.0000 - val_loss: 0.4985 - val_accuracy: 0.9236\n",
      "Epoch 44/50\n",
      "91/91 [==============================] - 1s 6ms/step - loss: 0.0020 - accuracy: 1.0000 - val_loss: 0.5136 - val_accuracy: 0.9236\n",
      "Epoch 45/50\n",
      "91/91 [==============================] - 0s 5ms/step - loss: 0.0017 - accuracy: 1.0000 - val_loss: 0.5247 - val_accuracy: 0.9236\n",
      "Epoch 46/50\n",
      "91/91 [==============================] - 1s 6ms/step - loss: 0.0014 - accuracy: 1.0000 - val_loss: 0.5293 - val_accuracy: 0.9258\n",
      "Epoch 47/50\n",
      "91/91 [==============================] - 1s 7ms/step - loss: 0.0013 - accuracy: 1.0000 - val_loss: 0.5368 - val_accuracy: 0.9258\n",
      "Epoch 48/50\n",
      "91/91 [==============================] - 1s 6ms/step - loss: 0.0011 - accuracy: 1.0000 - val_loss: 0.5445 - val_accuracy: 0.9258\n",
      "Epoch 49/50\n",
      "91/91 [==============================] - 1s 6ms/step - loss: 0.0010 - accuracy: 1.0000 - val_loss: 0.5491 - val_accuracy: 0.9258\n",
      "Epoch 50/50\n",
      "91/91 [==============================] - 1s 6ms/step - loss: 9.4004e-04 - accuracy: 1.0000 - val_loss: 0.5532 - val_accuracy: 0.9258\n"
     ]
    },
    {
     "data": {
      "text/plain": [
       "<keras.callbacks.History at 0x1d891996ec0>"
      ]
     },
     "execution_count": 76,
     "metadata": {},
     "output_type": "execute_result"
    }
   ],
   "source": [
    "classifier.fit(x=X_train,y=dfonehot,validation_split=0.33,batch_size = 10,epochs = 50)"
   ]
  },
  {
   "cell_type": "code",
   "execution_count": 59,
   "id": "35ac7cea",
   "metadata": {},
   "outputs": [
    {
     "name": "stdout",
     "output_type": "stream",
     "text": [
      "15/15 [==============================] - 0s 3ms/step\n"
     ]
    }
   ],
   "source": [
    "pred = classifier.predict(X_test)"
   ]
  },
  {
   "cell_type": "code",
   "execution_count": 60,
   "id": "e40d1b86",
   "metadata": {},
   "outputs": [],
   "source": [
    "from sklearn.metrics import accuracy_score"
   ]
  },
  {
   "cell_type": "code",
   "execution_count": 65,
   "id": "6229b33f",
   "metadata": {},
   "outputs": [
    {
     "name": "stdout",
     "output_type": "stream",
     "text": [
      "1.0166726488458622e-08\n",
      "7.410462000978502e-10\n",
      "99.9496340751648\n",
      "0.010158878285437822\n",
      "0.0\n",
      "1.0187786181890032e-12\n",
      "5.975505645849921e-08\n",
      "4.228136345173251e-27\n",
      "0.03622558724600822\n",
      "0.003973079583374783\n"
     ]
    }
   ],
   "source": [
    "for i in pred[0]:\n",
    "    print(i*100) "
   ]
  },
  {
   "cell_type": "code",
   "execution_count": 66,
   "id": "d8e2bef6",
   "metadata": {},
   "outputs": [
    {
     "data": {
      "text/plain": [
       "2"
      ]
     },
     "execution_count": 66,
     "metadata": {},
     "output_type": "execute_result"
    }
   ],
   "source": [
    "Y_test[0]"
   ]
  },
  {
   "cell_type": "code",
   "execution_count": null,
   "id": "cd737494",
   "metadata": {},
   "outputs": [],
   "source": []
  }
 ],
 "metadata": {
  "kernelspec": {
   "display_name": "Python 3 (ipykernel)",
   "language": "python",
   "name": "python3"
  },
  "language_info": {
   "codemirror_mode": {
    "name": "ipython",
    "version": 3
   },
   "file_extension": ".py",
   "mimetype": "text/x-python",
   "name": "python",
   "nbconvert_exporter": "python",
   "pygments_lexer": "ipython3",
   "version": "3.10.0"
  }
 },
 "nbformat": 4,
 "nbformat_minor": 5
}
