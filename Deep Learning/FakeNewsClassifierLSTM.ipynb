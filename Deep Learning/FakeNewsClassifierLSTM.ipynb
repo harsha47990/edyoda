{
  "nbformat": 4,
  "nbformat_minor": 0,
  "metadata": {
    "colab": {
      "name": "FakeNewsClassifierLSTM.ipynb",
      "provenance": [],
      "collapsed_sections": [],
      "authorship_tag": "ABX9TyM7knXpmbWz60U35iekzZMJ"
    },
    "kernelspec": {
      "name": "python3",
      "display_name": "Python 3"
    },
    "language_info": {
      "name": "python"
    },
    "accelerator": "GPU",
    "gpuClass": "standard"
  },
  "cells": [
    {
      "cell_type": "code",
      "execution_count": null,
      "metadata": {
        "id": "uOK7BrY0GgQD"
      },
      "outputs": [],
      "source": [
        ""
      ]
    },
    {
      "cell_type": "code",
      "source": [
        "from google.colab import drive\n",
        "drive.mount('/content/drive')\n"
      ],
      "metadata": {
        "id": "zH86NzFSIbuM"
      },
      "execution_count": null,
      "outputs": []
    },
    {
      "cell_type": "code",
      "source": [
        "import pandas as pd"
      ],
      "metadata": {
        "id": "U5L3wfsdIsPE"
      },
      "execution_count": 1,
      "outputs": []
    },
    {
      "cell_type": "code",
      "source": [
        "df = pd.read_csv('/content/train.csv')"
      ],
      "metadata": {
        "id": "FhSj8IZqIsS9"
      },
      "execution_count": 7,
      "outputs": []
    },
    {
      "cell_type": "code",
      "source": [
        "from tensorflow.keras.preprocessing.text import one_hot\n",
        "from tensorflow.keras.preprocessing.sequence import pad_sequences\n",
        "from tensorflow.keras.layers import LSTM,Dense,Embedding\n",
        "from tensorflow.keras.models import Sequential"
      ],
      "metadata": {
        "id": "BmTd8GLpIsV6"
      },
      "execution_count": 4,
      "outputs": []
    },
    {
      "cell_type": "code",
      "source": [
        "import nltk\n",
        "from nltk.corpus import stopwords\n",
        "import re"
      ],
      "metadata": {
        "id": "Iz_C6EmnLMx7"
      },
      "execution_count": 6,
      "outputs": []
    },
    {
      "cell_type": "code",
      "source": [
        "df.dropna(inplace=True)"
      ],
      "metadata": {
        "id": "4sIQBRiFLDU0"
      },
      "execution_count": 8,
      "outputs": []
    },
    {
      "cell_type": "code",
      "source": [
        "df.reset_index(inplace=True)\n",
        "X = df.drop('label',axis = 1)\n",
        "Y = df['label']"
      ],
      "metadata": {
        "id": "-rkDrX8dLDX4"
      },
      "execution_count": 9,
      "outputs": []
    },
    {
      "cell_type": "code",
      "source": [
        "X.shape"
      ],
      "metadata": {
        "colab": {
          "base_uri": "https://localhost:8080/"
        },
        "id": "4nMe2HX6LDaB",
        "outputId": "70c677d3-d0a1-4957-d9dc-c4c584f1b4b0"
      },
      "execution_count": 13,
      "outputs": [
        {
          "output_type": "execute_result",
          "data": {
            "text/plain": [
              "(18285, 3)"
            ]
          },
          "metadata": {},
          "execution_count": 13
        }
      ]
    },
    {
      "cell_type": "code",
      "source": [
        "X.drop(['index','id'],axis = 1,inplace=True)"
      ],
      "metadata": {
        "id": "6f4PfzslNOmy"
      },
      "execution_count": 12,
      "outputs": []
    },
    {
      "cell_type": "code",
      "source": [
        "from nltk.stem.porter import PorterStemmer"
      ],
      "metadata": {
        "id": "N1s3lwyJNOpJ"
      },
      "execution_count": 14,
      "outputs": []
    },
    {
      "cell_type": "code",
      "source": [
        "nltk.download('stopwords')"
      ],
      "metadata": {
        "colab": {
          "base_uri": "https://localhost:8080/"
        },
        "id": "uHBPNjRJQgpS",
        "outputId": "fe36f518-1cae-477b-cdf4-933de511c6bb"
      },
      "execution_count": 17,
      "outputs": [
        {
          "output_type": "stream",
          "name": "stderr",
          "text": [
            "[nltk_data] Downloading package stopwords to /root/nltk_data...\n",
            "[nltk_data]   Unzipping corpora/stopwords.zip.\n"
          ]
        },
        {
          "output_type": "execute_result",
          "data": {
            "text/plain": [
              "True"
            ]
          },
          "metadata": {},
          "execution_count": 17
        }
      ]
    },
    {
      "cell_type": "code",
      "source": [
        "ps = PorterStemmer()\n",
        "corpus= []\n",
        "for i in range(0,len(X)):\n",
        "  title = re.sub('^[a-zA-Z]',' ',X['title'][i])\n",
        "  title = title.lower()\n",
        "  title = title.split()\n",
        "  title = [ps.stem(word) for word in title if not word in stopwords.words('english')]\n",
        "  title = ' '.join(title)\n",
        "  corpus.append(title)"
      ],
      "metadata": {
        "id": "FypIUNlpNOrh"
      },
      "execution_count": 19,
      "outputs": []
    },
    {
      "cell_type": "code",
      "source": [
        "voc_size = 5000\n",
        "one_hot_repr = [one_hot(words,voc_size) for words in corpus]"
      ],
      "metadata": {
        "id": "2xEhg69lNOxr"
      },
      "execution_count": 21,
      "outputs": []
    },
    {
      "cell_type": "code",
      "source": [
        "max_size = 20\n",
        "embedded_repr = pad_sequences(one_hot_repr,padding='pre',maxlen=max_size)"
      ],
      "metadata": {
        "id": "QaJJsNhwLDcs"
      },
      "execution_count": 23,
      "outputs": []
    },
    {
      "cell_type": "code",
      "source": [
        "embedded_repr"
      ],
      "metadata": {
        "colab": {
          "base_uri": "https://localhost:8080/"
        },
        "id": "ciFssDnmR8h_",
        "outputId": "dddd0216-8511-42bc-a29a-385873217b2c"
      },
      "execution_count": 24,
      "outputs": [
        {
          "output_type": "execute_result",
          "data": {
            "text/plain": [
              "array([[   0,    0,    0, ..., 2210, 2794, 4474],\n",
              "       [   0,    0,    0, ..., 3495, 3067, 1144],\n",
              "       [   0,    0,    0, ..., 4395, 4389, 2277],\n",
              "       ...,\n",
              "       [   0,    0,    0, ...,  626, 3607, 4113],\n",
              "       [   0,    0,    0, ..., 3754,  252, 2609],\n",
              "       [   0,    0,    0, ..., 1305, 2453, 3917]], dtype=int32)"
            ]
          },
          "metadata": {},
          "execution_count": 24
        }
      ]
    },
    {
      "cell_type": "code",
      "source": [
        "embedding_features = 40\n",
        "model = Sequential()\n",
        "model.add(Embedding(voc_size,embedding_features,input_length=max_size))\n",
        "model.add(LSTM(100))\n",
        "model.add(Dense(1,activation='sigmoid'))\n",
        "model.compile(loss='binary_crossentropy',optimizer='adam',metrics=['accuracy'])"
      ],
      "metadata": {
        "id": "jN17M22KR8kJ"
      },
      "execution_count": 32,
      "outputs": []
    },
    {
      "cell_type": "code",
      "source": [
        "model.summary()"
      ],
      "metadata": {
        "colab": {
          "base_uri": "https://localhost:8080/"
        },
        "id": "EO8OSx8xR8lu",
        "outputId": "6da57300-d1da-4cf0-a96f-586d83255004"
      },
      "execution_count": 28,
      "outputs": [
        {
          "output_type": "stream",
          "name": "stdout",
          "text": [
            "Model: \"sequential_2\"\n",
            "_________________________________________________________________\n",
            " Layer (type)                Output Shape              Param #   \n",
            "=================================================================\n",
            " embedding_1 (Embedding)     (None, 20, 40)            200000    \n",
            "                                                                 \n",
            " lstm (LSTM)                 (None, 100)               56400     \n",
            "                                                                 \n",
            " dense (Dense)               (None, 1)                 101       \n",
            "                                                                 \n",
            "=================================================================\n",
            "Total params: 256,501\n",
            "Trainable params: 256,501\n",
            "Non-trainable params: 0\n",
            "_________________________________________________________________\n"
          ]
        }
      ]
    },
    {
      "cell_type": "code",
      "source": [
        "import numpy as np\n",
        "X_final = np.array(embedded_repr)"
      ],
      "metadata": {
        "id": "v8_fyJFpXQs8"
      },
      "execution_count": 30,
      "outputs": []
    },
    {
      "cell_type": "code",
      "source": [
        "model.fit(X_final,Y,validation_split=0.2,epochs=10,batch_size=72)"
      ],
      "metadata": {
        "colab": {
          "base_uri": "https://localhost:8080/"
        },
        "id": "0Y6sop2ZVBo0",
        "outputId": "bb98ab90-2d87-4ace-b975-5431cb1bd351"
      },
      "execution_count": 33,
      "outputs": [
        {
          "output_type": "stream",
          "name": "stdout",
          "text": [
            "Epoch 1/10\n",
            "204/204 [==============================] - 9s 9ms/step - loss: 0.3298 - accuracy: 0.8398 - val_loss: 0.1938 - val_accuracy: 0.9163\n",
            "Epoch 2/10\n",
            "204/204 [==============================] - 1s 7ms/step - loss: 0.1322 - accuracy: 0.9491 - val_loss: 0.1956 - val_accuracy: 0.9185\n",
            "Epoch 3/10\n",
            "204/204 [==============================] - 1s 7ms/step - loss: 0.0856 - accuracy: 0.9692 - val_loss: 0.2324 - val_accuracy: 0.9212\n",
            "Epoch 4/10\n",
            "204/204 [==============================] - 1s 7ms/step - loss: 0.0534 - accuracy: 0.9832 - val_loss: 0.2897 - val_accuracy: 0.9166\n",
            "Epoch 5/10\n",
            "204/204 [==============================] - 1s 7ms/step - loss: 0.0298 - accuracy: 0.9908 - val_loss: 0.3084 - val_accuracy: 0.9136\n",
            "Epoch 6/10\n",
            "204/204 [==============================] - 1s 7ms/step - loss: 0.0165 - accuracy: 0.9951 - val_loss: 0.3927 - val_accuracy: 0.9139\n",
            "Epoch 7/10\n",
            "204/204 [==============================] - 1s 7ms/step - loss: 0.0074 - accuracy: 0.9982 - val_loss: 0.4120 - val_accuracy: 0.9027\n",
            "Epoch 8/10\n",
            "204/204 [==============================] - 1s 7ms/step - loss: 0.0041 - accuracy: 0.9992 - val_loss: 0.5455 - val_accuracy: 0.9098\n",
            "Epoch 9/10\n",
            "204/204 [==============================] - 1s 7ms/step - loss: 0.0017 - accuracy: 0.9999 - val_loss: 0.5209 - val_accuracy: 0.9180\n",
            "Epoch 10/10\n",
            "204/204 [==============================] - 1s 7ms/step - loss: 0.0014 - accuracy: 0.9997 - val_loss: 0.5330 - val_accuracy: 0.9128\n"
          ]
        },
        {
          "output_type": "execute_result",
          "data": {
            "text/plain": [
              "<keras.callbacks.History at 0x7f5a34262090>"
            ]
          },
          "metadata": {},
          "execution_count": 33
        }
      ]
    },
    {
      "cell_type": "code",
      "source": [
        "from sklearn.model_selection import train_test_split \n",
        "x_train,x_test,y_train,y_test  =train_test_split(X_final,Y,test_size = 0.25)"
      ],
      "metadata": {
        "id": "SFu3DjazWk8G"
      },
      "execution_count": 35,
      "outputs": []
    },
    {
      "cell_type": "code",
      "source": [
        "x_test,y_test"
      ],
      "metadata": {
        "colab": {
          "base_uri": "https://localhost:8080/"
        },
        "id": "WOx5XpLYWk-O",
        "outputId": "24f2bf8f-26d4-4ea0-e9e4-0223a1a1ce3d"
      },
      "execution_count": 36,
      "outputs": [
        {
          "output_type": "execute_result",
          "data": {
            "text/plain": [
              "(array([[   0,    0,    0, ...,  465,  365, 3345],\n",
              "        [   0,    0,    0, ...,  626, 3607, 4113],\n",
              "        [   0,    0,    0, ...,  626, 3607, 4113],\n",
              "        ...,\n",
              "        [   0,    0,    0, ..., 1144,  341, 1144],\n",
              "        [   0,    0,    0, ..., 3108, 4498,   82],\n",
              "        [   0,    0,    0, ..., 3929, 1921,  167]], dtype=int32), 7892     1\n",
              " 3821     0\n",
              " 3106     0\n",
              " 18270    1\n",
              " 14601    1\n",
              "         ..\n",
              " 17506    1\n",
              " 1605     1\n",
              " 10749    0\n",
              " 3854     1\n",
              " 6069     1\n",
              " Name: label, Length: 4572, dtype: int64)"
            ]
          },
          "metadata": {},
          "execution_count": 36
        }
      ]
    },
    {
      "cell_type": "code",
      "source": [
        "pred = model.predict(x_test)"
      ],
      "metadata": {
        "id": "5hY8Q2mtVBqm"
      },
      "execution_count": 38,
      "outputs": []
    },
    {
      "cell_type": "code",
      "source": [
        "model.evaluate(x_test, y_test, verbose=2)"
      ],
      "metadata": {
        "colab": {
          "base_uri": "https://localhost:8080/"
        },
        "id": "Xrf5k3g2VBsc",
        "outputId": "fedc646b-f89b-4aaf-da86-a407dc42b62a"
      },
      "execution_count": 39,
      "outputs": [
        {
          "output_type": "stream",
          "name": "stdout",
          "text": [
            "143/143 - 0s - loss: 0.1126 - accuracy: 0.9834 - 351ms/epoch - 2ms/step\n"
          ]
        },
        {
          "output_type": "execute_result",
          "data": {
            "text/plain": [
              "[0.11262740194797516, 0.9833770990371704]"
            ]
          },
          "metadata": {},
          "execution_count": 39
        }
      ]
    },
    {
      "cell_type": "markdown",
      "source": [
        ""
      ],
      "metadata": {
        "id": "zEyWp3DVIhku"
      }
    }
  ]
}